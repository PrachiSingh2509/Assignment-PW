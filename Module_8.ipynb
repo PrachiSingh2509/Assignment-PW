{
  "nbformat": 4,
  "nbformat_minor": 0,
  "metadata": {
    "colab": {
      "provenance": []
    },
    "kernelspec": {
      "name": "python3",
      "display_name": "Python 3"
    },
    "language_info": {
      "name": "python"
    }
  },
  "cells": [
    {
      "cell_type": "code",
      "execution_count": null,
      "metadata": {
        "id": "wwPoktkdHA4B"
      },
      "outputs": [],
      "source": []
    },
    {
      "cell_type": "markdown",
      "source": [
        "#Files, exceptional handling, logging and memory management Questions.\n",
        "\n",
        "0. What is the difference between interpreted and compiled languages0\n",
        "1.  What is exception handling in Python0\n",
        "2. What is the purpose of the finally block in exception handling0\n",
        "3. What is logging in Python0\n",
        "4. What is the significance of the __del__ method in Python0\n",
        "5. What is the difference between import and from ... import in Python0\n",
        "6.How can you handle multiple exceptions in Python0\n",
        "7. What is the purpose of the with statement when handling files in Python0\n",
        "8. What is the difference between multithreading and multiprocessing0\n",
        "9. What are the advantages of using logging in a program0\n",
        "10. What is memory management in Python0\n",
        "11. What are the basic steps involved in exception handling in python?\n",
        "12. Why is memory management important in Python0\n",
        "13. What is the role of try and except in exception handling0\n",
        "14. How does Python's garbage collection system work0\n",
        "15. What is the purpose of the else block in exception handling0\n",
        "16. What are the common logging levels in Python0\n",
        "17. What is the difference between os.fork() and multiprocessing in Python0\n",
        "18. What is the importance of closing a file in Python0\n",
        "19. What is the difference between file.read() and file.readline() in Python0\n",
        "20. What is the logging module in Python used for0\n",
        "21. What is the os module in Python used for in file handling0\n",
        "22. What are the challenges associated with memory management in Python0\n",
        "23.  How do you raise an exception manually in Python0\n",
        "24. Why is it important to use multithreading in certain applications?\n"
      ],
      "metadata": {
        "id": "x4TPbitTHDdb"
      }
    },
    {
      "cell_type": "code",
      "source": [],
      "metadata": {
        "id": "lKOVNfYpHJZi"
      },
      "execution_count": null,
      "outputs": []
    },
    {
      "cell_type": "markdown",
      "source": [
        "1. What is Exception Handling in Python?\n",
        "It manages runtime errors using try, except, finally, and else blocks.\n",
        "\n",
        "2. Purpose of the finally Block\n",
        "Executes cleanup code regardless of whether an exception occurred or not.\n",
        "\n",
        "3. What is Logging in Python?\n",
        "Logging tracks events during program execution for debugging and monitoring.\n",
        "\n",
        "4. Significance of __del__ Method\n",
        "It is a destructor method called when an object is garbage collected.\n",
        "\n",
        "5. Difference between import and from ... import\n",
        "import module: Imports the whole module.\n",
        "\n",
        "from module import name: Imports specific part of the module.\n",
        "\n",
        "6. Handling Multiple Exceptions\n",
        "Use multiple except blocks or a tuple:\n",
        "\n",
        "try:\n",
        "    # code\n",
        "except (TypeError, ValueError):\n",
        "    # handle\n",
        "7. Purpose of with Statement in File Handling\n",
        "Ensures automatic file closing, even if exceptions occur.\n",
        "\n",
        "8. Multithreading vs. Multiprocessing\n",
        "Multithreading: Multiple threads in same process (shared memory).\n",
        "\n",
        "Multiprocessing: Multiple processes with separate memory.\n",
        "\n",
        "9. Advantages of Logging\n",
        "Tracks errors, events, and user activity without stopping the program.\n",
        "\n",
        "10. What is Memory Management in Python?\n",
        "Automatic memory allocation and deallocation using garbage collection.\n",
        "\n",
        "11. Basic Steps in Exception Handling\n",
        "try: Run code.\n",
        "\n",
        "except: Catch exceptions.\n",
        "\n",
        "else: Run if no exception.\n",
        "\n",
        "finally: Always runs.\n",
        "\n",
        "12. Importance of Memory Management\n",
        "Prevents memory leaks and optimizes system resource usage.\n",
        "\n",
        "13. Role of try and except\n",
        "try: Code that may cause exception.\n",
        "\n",
        "except: Handles the exception gracefully.\n",
        "\n",
        "14. Python's Garbage Collection System\n",
        "Uses reference counting and cyclic garbage collector to free unused memory.\n",
        "\n",
        "15. Purpose of else Block in Exception Handling\n",
        "Executes only if the try block does not raise an exception.\n",
        "\n",
        "16. Common Logging Levels\n",
        "DEBUG\n",
        "\n",
        "INFO\n",
        "\n",
        "WARNING\n",
        "\n",
        "ERROR\n",
        "\n",
        "CRITICAL\n",
        "\n",
        "17. Difference between os.fork() and multiprocessing\n",
        "os.fork(): Unix-specific, lower-level.\n",
        "\n",
        "multiprocessing: Cross-platform and more manageable.\n",
        "\n",
        "18. Importance of Closing a File\n",
        "Releases system resources and ensures data is written (flushed) to disk.\n",
        "\n",
        "19. file.read() vs file.readline()\n",
        "read(): Reads entire file.\n",
        "\n",
        "readline(): Reads one line at a time.\n",
        "\n",
        "20. Purpose of logging Module\n",
        "Provides a flexible way to log messages to files, consoles, etc.\n",
        "\n",
        "21. Purpose of os Module in File Handling\n",
        "Used for interacting with the operating system: path, files, directories, etc.\n",
        "\n",
        "22. Challenges in Memory Management\n",
        "Cyclic references\n",
        "\n",
        "Large object storage\n",
        "\n",
        "Manual memory management not exposed\n",
        "\n",
        "23. Raise Exception Manually\n",
        "raise ValueError(\"Custom error message\")\n",
        "24. Importance of Multithreading\n",
        "Improves performance in I/O-bound tasks and allows concurrent execution."
      ],
      "metadata": {
        "id": "Svkg2IBhHTG9"
      }
    },
    {
      "cell_type": "markdown",
      "source": [
        "#Practical Questions\n",
        "1. How can you open a file for writing in Python and write a string to it\u001f\n",
        "2. Write a Python program to read the contents of a file and print each lineF\n",
        "3. How would you handle a case where the file doesn't exist while trying to open it for reading\u001f\n",
        "4. Write a Python script that reads from one file and writes its content to another fileF\n",
        "5. How would you catch and handle division by zero error in Python\u001f\n",
        "6. Write a Python program that logs an error message to a log file when a division by zero exception occursF\n",
        "7. How do you log information at different levels (INFO, ERROR, WARNING) in Python using the logging module\u001f\n",
        "8. Write a program to handle a file opening error using exception handlingF\n",
        "9. How can you read a file line by line and store its content in a list in Python\u001f\n",
        "10. How can you append data to an existing file in Python\u001f\n",
        "11. Write a Python program that uses a try-except block to handle an error when attempting to access a\n",
        "dictionary key that doesn't existF\n",
        "12. Write a program that demonstrates using multiple except blocks to handle different types of exceptionsF\n",
        "13. How would you check if a file exists before attempting to read it in Python\u001f\n",
        "14. Write a program that uses the logging module to log both informational and error messagesF\n",
        "15. Write a Python program that prints the content of a file and handles the case when the file is emptyF\n",
        "16. Demonstrate how to use memory profiling to check the memory usage of a small program.\n",
        "17. Write a Python program to create and write a list of numbers to a file, one number per line.\n",
        "18. How would you implement a basic logging setup that logs to a file with rotation after 1MB\u001f\n",
        "19. Write a program that handles both IndexError and KeyError using a try-except blockF\n",
        "20. How would you open a file and read its contents using a context manager in Python\u001f\n",
        "21. Write a Python program that reads a file and prints the number of occurrences of a specific wordF\n",
        "22. How can you check if a file is empty before attempting to read its contents\u001f\n",
        "23. Write a Python program that writes to a log file when an error occurs during file handling"
      ],
      "metadata": {
        "id": "aQrxCuIEIa65"
      }
    },
    {
      "cell_type": "code",
      "source": [
        "#1.\n",
        "with open(\"output.txt\", \"w\") as f:\n",
        "    f.write(\"Hello, world!\")\n"
      ],
      "metadata": {
        "id": "8Xjms3IRIjIK"
      },
      "execution_count": null,
      "outputs": []
    },
    {
      "cell_type": "code",
      "source": [
        "#2.\n",
        "with open(\"file.txt\", \"r\") as f:\n",
        "    for line in f:\n",
        "        print(line.strip())\n"
      ],
      "metadata": {
        "id": "USq5i_l6ImEv"
      },
      "execution_count": null,
      "outputs": []
    },
    {
      "cell_type": "code",
      "source": [
        "#3.\n",
        "try:\n",
        "    with open(\"file.txt\", \"r\") as f:\n",
        "        print(f.read())\n",
        "except FileNotFoundError:\n",
        "    print(\"File not found.\")\n"
      ],
      "metadata": {
        "id": "7K2upfeNLp-J"
      },
      "execution_count": null,
      "outputs": []
    },
    {
      "cell_type": "code",
      "source": [
        "#4.\n",
        "with open(\"source.txt\", \"r\") as src, open(\"dest.txt\", \"w\") as dst:\n",
        "    dst.write(src.read())\n"
      ],
      "metadata": {
        "id": "fKko0XlKLtz7"
      },
      "execution_count": null,
      "outputs": []
    },
    {
      "cell_type": "code",
      "source": [
        "#5.\n",
        "try:\n",
        "    result = 10 / 0\n",
        "except ZeroDivisionError:\n",
        "    print(\"Cannot divide by zero.\")\n"
      ],
      "metadata": {
        "id": "RA7ItaDFLsXs"
      },
      "execution_count": null,
      "outputs": []
    },
    {
      "cell_type": "code",
      "source": [
        "#6.\n",
        "import logging\n",
        "logging.basicConfig(filename=\"error.log\", level=logging.ERROR)\n",
        "\n",
        "try:\n",
        "    result = 10 / 0\n",
        "except ZeroDivisionError as e:\n",
        "    logging.error(f\"Division error occurred: {e}\")\n"
      ],
      "metadata": {
        "id": "xaWzrhkJL9_n"
      },
      "execution_count": null,
      "outputs": []
    },
    {
      "cell_type": "code",
      "source": [
        "#7.\n",
        "import logging\n",
        "logging.basicConfig(level=logging.DEBUG)\n",
        "\n",
        "logging.info(\"This is info\")\n",
        "logging.warning(\"This is warning\")\n",
        "logging.error(\"This is error\")\n"
      ],
      "metadata": {
        "id": "TUiDuZwAL810"
      },
      "execution_count": null,
      "outputs": []
    },
    {
      "cell_type": "code",
      "source": [
        "#8.\n",
        "try:\n",
        "    f = open(\"nonexistent.txt\", \"r\")\n",
        "except IOError:\n",
        "    print(\"File cannot be opened.\")\n"
      ],
      "metadata": {
        "id": "Wg9p-YuPL722"
      },
      "execution_count": null,
      "outputs": []
    },
    {
      "cell_type": "code",
      "source": [
        "#9.\n",
        "with open(\"file.txt\", \"r\") as f:\n",
        "    lines = f.readlines()\n"
      ],
      "metadata": {
        "id": "D9YzjYDEL6WN"
      },
      "execution_count": null,
      "outputs": []
    },
    {
      "cell_type": "code",
      "source": [
        "#10.\n",
        "with open(\"file.txt\", \"a\") as f:\n",
        "    f.write(\"Additional line\\n\")\n"
      ],
      "metadata": {
        "id": "eT1bxMttL47j"
      },
      "execution_count": null,
      "outputs": []
    },
    {
      "cell_type": "code",
      "source": [
        "#11.\n",
        "try:\n",
        "    d = {\"name\": \"Alice\"}\n",
        "    print(d[\"age\"])\n",
        "except KeyError:\n",
        "    print(\"Key does not exist.\")\n"
      ],
      "metadata": {
        "id": "T4tgh8K6MUW2"
      },
      "execution_count": null,
      "outputs": []
    },
    {
      "cell_type": "code",
      "source": [
        "#12.\n",
        "try:\n",
        "    lst = [1, 2]\n",
        "    print(lst[5])\n",
        "except IndexError:\n",
        "    print(\"Index error.\")\n",
        "except ValueError:\n",
        "    print(\"Value error.\")\n"
      ],
      "metadata": {
        "id": "bMubYSyaMTWm"
      },
      "execution_count": null,
      "outputs": []
    },
    {
      "cell_type": "code",
      "source": [
        "#13.\n",
        "import os\n",
        "if os.path.exists(\"file.txt\"):\n",
        "    with open(\"file.txt\") as f:\n",
        "        print(f.read())\n",
        "else:\n",
        "    print(\"File does not exist.\")\n"
      ],
      "metadata": {
        "id": "8C66Ivt7MSY2"
      },
      "execution_count": null,
      "outputs": []
    },
    {
      "cell_type": "code",
      "source": [
        "#14.\n",
        "import logging\n",
        "logging.basicConfig(filename=\"app.log\", level=logging.DEBUG)\n",
        "logging.info(\"Program started\")\n",
        "logging.error(\"An error occurred\")\n"
      ],
      "metadata": {
        "id": "GnHqcbYCMRbm"
      },
      "execution_count": null,
      "outputs": []
    },
    {
      "cell_type": "code",
      "source": [
        "#15.\n",
        "with open(\"file.txt\", \"r\") as f:\n",
        "    content = f.read()\n",
        "    if content:\n",
        "        print(content)\n",
        "    else:\n",
        "        print(\"File is empty.\")\n"
      ],
      "metadata": {
        "id": "74gZgcB9MQWC"
      },
      "execution_count": null,
      "outputs": []
    },
    {
      "cell_type": "code",
      "source": [
        "#16.\n",
        "from memory_profiler import profile\n",
        "\n",
        "@profile\n",
        "def my_function():\n",
        "    a = [i for i in range(10000)]\n",
        "    return a\n",
        "\n",
        "my_function()\n"
      ],
      "metadata": {
        "id": "RATIJ-8MMoip"
      },
      "execution_count": null,
      "outputs": []
    },
    {
      "cell_type": "code",
      "source": [
        "#17.\n",
        "with open(\"numbers.txt\", \"w\") as f:\n",
        "    for i in range(1, 11):\n",
        "        f.write(f\"{i}\\n\")\n"
      ],
      "metadata": {
        "id": "fktEgxHOMm7-"
      },
      "execution_count": null,
      "outputs": []
    },
    {
      "cell_type": "code",
      "source": [
        "#18.\n",
        "from logging.handlers import RotatingFileHandler\n",
        "import logging\n",
        "\n",
        "handler = RotatingFileHandler(\"app.log\", maxBytes=1_000_000, backupCount=3)\n",
        "logging.basicConfig(handlers=[handler], level=logging.INFO)\n",
        "logging.info(\"Log message\")\n"
      ],
      "metadata": {
        "id": "FidB6LXoMlhV"
      },
      "execution_count": null,
      "outputs": []
    },
    {
      "cell_type": "code",
      "source": [
        "#19.\n",
        "try:\n",
        "    lst = [1]\n",
        "    print(lst[5])\n",
        "    d = {}\n",
        "    print(d[\"key\"])\n",
        "except IndexError:\n",
        "    print(\"Index error.\")\n",
        "except KeyError:\n",
        "    print(\"Key error.\")\n"
      ],
      "metadata": {
        "id": "cXQRT1q9MkHU"
      },
      "execution_count": null,
      "outputs": []
    },
    {
      "cell_type": "code",
      "source": [
        "#20.\n",
        "with open(\"file.txt\", \"r\") as f:\n",
        "    content = f.read()\n"
      ],
      "metadata": {
        "id": "OCc_Qm27MjDx"
      },
      "execution_count": null,
      "outputs": []
    },
    {
      "cell_type": "code",
      "source": [
        "#21.\n",
        "word = \"python\"\n",
        "count = 0\n",
        "with open(\"file.txt\", \"r\") as f:\n",
        "    for line in f:\n",
        "        count += line.lower().count(word)\n",
        "print(f\"Occurrences of '{word}':\", count)\n"
      ],
      "metadata": {
        "id": "lZiTZ6HkM0Wz"
      },
      "execution_count": null,
      "outputs": []
    },
    {
      "cell_type": "code",
      "source": [
        "#22.\n",
        "import os\n",
        "if os.path.getsize(\"file.txt\") == 0:\n",
        "    print(\"File is empty.\")\n",
        "else:\n",
        "    with open(\"file.txt\") as f:\n",
        "        print(f.read())\n"
      ],
      "metadata": {
        "id": "RLD0RXs-M0TE"
      },
      "execution_count": null,
      "outputs": []
    },
    {
      "cell_type": "code",
      "source": [
        "#23.\n",
        "import logging\n",
        "logging.basicConfig(filename=\"file_errors.log\", level=logging.ERROR)\n",
        "\n",
        "try:\n",
        "    with open(\"nonexistent.txt\", \"r\") as f:\n",
        "        print(f.read())\n",
        "except Exception as e:\n",
        "    logging.error(f\"Error while reading file: {e}\")\n"
      ],
      "metadata": {
        "id": "DWz5_leyM7J-"
      },
      "execution_count": null,
      "outputs": []
    }
  ]
}