{
  "nbformat": 4,
  "nbformat_minor": 0,
  "metadata": {
    "colab": {
      "provenance": []
    },
    "kernelspec": {
      "name": "python3",
      "display_name": "Python 3"
    },
    "language_info": {
      "name": "python"
    }
  },
  "cells": [
    {
      "cell_type": "markdown",
      "source": [
        "#Questions\n",
        "People Dataset :-\n",
        "\n",
        "https://drive.google.com/file/d/13x8f8HNKieSRAzxTIzAojaYp8Up8cefk/view?usp=sharing\n",
        "\n",
        "\n",
        "\n",
        "1. Demonstrate three different methods for creating identical 2D arrays in NumPy. Provide the code for each method and the final output after each method\n",
        "2. Using the Numpy function, generate an array of 100 evenly spaced numbers between 1 and 10 and\n",
        "Reshape that 1D array into a 2D array\n",
        "3.  Explain the following termsg\n",
        ". The difference in np.array, np.asarray and np.asanyarrayX\n",
        ". The difference between Deep copy and shallow copyX\n",
        "4.  Generate a 3x3 array with random floating-point numbers between 5 and 20. Then, round each number in\n",
        "the array to 2 decimal places.8\n",
        "5. Create a NumPy array with random integers between 1 and 10 of shape (5, 6). After creating the array\n",
        "perform the following operations:\n",
        "\n",
        " a)Extract all even integers from array.\n",
        "\n",
        " b)Extract all odd integers from arrayX\n",
        "6. Create a 3D NumPy array of shape (3, 3, 3) containing random integers between 1 and 10. Perform the\n",
        "following operations:\n",
        "\n",
        " a) Find the indices of the maximum values along each depth level (third axis).\n",
        "\n",
        " b) Perform element-wise multiplication of between both arrayX\n",
        "7. Clean and transform the 'Phone' column in the sample dataset to remove non-numeric characters and\n",
        "convert it to a numeric data type. Also display the table attributes and data types of each column\n",
        "8. Perform the following tasks using people dataset:\n",
        "\n",
        " a) Read the 'data.csv' file using pandas, skipping the first 50 rows.\n",
        "\n",
        " b) Only read the columns: 'Last Name', ‘Gender’,’Email’,‘Phone’ and ‘Salary’ from the file.\n",
        "\n",
        " c) Display the first 10 rows of the filtered dataset.\n",
        "\n",
        " d) Extract the ‘Salary’' column as a Series and display its last 5 valuesX\n",
        "9. Filter and select rows from the People_Dataset, where the “Last Name' column contains the name 'Duke',  \n",
        "'Gender' column contains the word Female and ‘Salary’ should be less than 85000\n",
        "10. Create a 7*5 Dataframe in Pandas using a series generated from 35 random integers between 1 to 6?\n",
        "11. Create two different Series, each of length 50, with the following criteria:\n",
        "\n",
        "a) The first Series should contain random numbers ranging from 10 to 50.\n",
        "\n",
        "b) The second Series should contain random numbers ranging from 100 to 1000.\n",
        "\n",
        "c) Create a DataFrame by joining these Series by column, and, change the names of the columns to 'col1', 'col2',\n",
        "etc&\n",
        "12. Perform the following operations using people data set:\n",
        "\n",
        "a) Delete the 'Email', 'Phone', and 'Date of birth' columns from the dataset.\n",
        "\n",
        "b) Delete the rows containing any missing values.\n",
        "\n",
        "d) Print the final output also&\n",
        "13. Create two NumPy arrays, x and y, each containing 100 random float values between 0 and 1. Perform the\n",
        "following tasks using Matplotlib and NumPy:\n",
        "\n",
        "a) Create a scatter plot using x and y, setting the color of the points to red and the marker style to 'o'.\n",
        "\n",
        "b) Add a horizontal line at y = 0.5 using a dashed line style and label it as 'y = 0.5'.\n",
        "\n",
        "c) Add a vertical line at x = 0.5 using a dotted line style and label it as 'x = 0.5'.\n",
        "\n",
        "d) Label the x-axis as 'X-axis' and the y-axis as 'Y-axis'.\n",
        "\n",
        "e) Set the title of the plot as 'Advanced Scatter Plot of Random Values'.\n",
        "\n",
        "f) Display a legend for the scatter plot, the horizontal line, and the vertical line.\n",
        "14. Create a time-series dataset in a Pandas DataFrame with columns: 'Date', 'Temperature', 'Humidity' and Perform the following tasks using Matplotlib:\n",
        "a) Plot the 'Temperature' and 'Humidity' on the same plot with different y-axes (left y-axis for 'Temperature' and\n",
        "right y-axis for 'Humidity').\n",
        "\n",
        "b) Label the x-axis as 'Date'.\n",
        "\n",
        "c) Set the title of the plot as 'Temperature and Humidity Over Time'.\n",
        "15. Create a NumPy array data containing 1000 samples from a normal distribution. Perform the following tasks using Matplotlib:\n",
        "a) Plot a histogram of the data with 30 bins.\n",
        "\n",
        "b) Overlay a line plot representing the normal distribution's probability density function (PDF).\n",
        "\n",
        "c) Label the x-axis as 'Value' and the y-axis as 'Frequency/Probability'.\n",
        "\n",
        "d) Set the title of the plot as 'Histogram with PDF Overlay'.\n",
        "16. Set the title of the plot as 'Histogram with PDF Overlay'.\n",
        "17. Create a Seaborn scatter plot of two random arrays, color points based on their position relative to the origin (quadrants), add a legend, label the axes, and set the title as 'Quadrant-wise Scatter Plot'.\n",
        "18. With Bokeh, plot a line chart of a sine wave function, add grid lines, label the axes, and set the title as 'Sine\n",
        "Wave Function'8\n",
        "19. Using Bokeh, generate a bar chart of randomly generated categorical data, color bars based on their\n",
        "values, add hover tooltips to display exact values, label the axes, and set the title as 'Random Categorical\n",
        "Bar Chart'8\n",
        "20. Using Plotly, create a basic line plot of a randomly generated dataset, label the axes, and set the title as\n",
        "'Simple Line Plot'8\n",
        "21. Using Plotly, create an interactive pie chart of randomly generated data, add labels and percentages, set\n",
        "the title as 'Interactive Pie Chart'."
      ],
      "metadata": {
        "id": "802aC_Sa79Jb"
      }
    },
    {
      "cell_type": "code",
      "source": [
        "#1st\n",
        "import numpy as np\n",
        "\n",
        "# Method 1: Using np.array\n",
        "arr1 = np.array([[1, 2], [3, 4]])\n",
        "\n",
        "# Method 2: Using np.ones and multiplication\n",
        "arr2 = np.ones((2, 2)) * [[1, 2], [3, 4]]\n",
        "\n",
        "# Method 3: Using np.reshape\n",
        "arr3 = np.arange(1, 5).reshape(2, 2)\n",
        "\n",
        "print(arr1, arr2, arr3, sep='\\n\\n')\n"
      ],
      "metadata": {
        "id": "lw8IBOWt9BKV"
      },
      "execution_count": null,
      "outputs": []
    },
    {
      "cell_type": "code",
      "source": [
        "#2nd\n",
        "arr = np.linspace(1, 10, 100)\n",
        "reshaped_arr = arr.reshape(10, 10)\n",
        "print(reshaped_arr)\n"
      ],
      "metadata": {
        "id": "pryy-nm89Dut"
      },
      "execution_count": null,
      "outputs": []
    },
    {
      "cell_type": "markdown",
      "source": [
        "#3rd\n",
        "a. np.array, np.asarray, np.asanyarray\n",
        "\n",
        "np.array: Always copies data.\n",
        "\n",
        "np.asarray: Avoids copy if input is already an array.\n",
        "\n",
        "np.asanyarray: Like asarray, but passes through subclasses (e.g., matrix).\n",
        "\n",
        "b. Deep copy vs Shallow copy\n",
        "\n",
        "Shallow copy: New object, but shares data (view()).\n",
        "\n",
        "Deep copy: Full copy of data (copy())."
      ],
      "metadata": {
        "id": "fReWUEYD9Ljs"
      }
    },
    {
      "cell_type": "code",
      "source": [
        "#4th\n",
        "arr = np.random.uniform(5, 20, size=(3, 3))\n",
        "rounded = np.round(arr, 2)\n",
        "print(rounded)\n"
      ],
      "metadata": {
        "id": "eXSD4FtO9N9p"
      },
      "execution_count": null,
      "outputs": []
    },
    {
      "cell_type": "code",
      "source": [
        "#5th\n",
        "arr = np.random.randint(1, 11, size=(5, 6))\n",
        "\n",
        "even = arr[arr % 2 == 0]\n",
        "odd = arr[arr % 2 != 0]\n",
        "\n",
        "print(\"Even:\", even)\n",
        "print(\"Odd:\", odd)\n"
      ],
      "metadata": {
        "id": "e120GiSD9RLm"
      },
      "execution_count": null,
      "outputs": []
    },
    {
      "cell_type": "code",
      "source": [
        "#6th\n",
        "arr = np.random.randint(1, 11, size=(3, 3, 3))\n",
        "max_indices = np.argmax(arr, axis=2)\n",
        "\n",
        "# For element-wise multiplication, just multiply the array with itself:\n",
        "result = arr * arr\n",
        "\n",
        "print(\"Max Indices:\\n\", max_indices)\n",
        "print(\"Element-wise Product:\\n\", result)\n"
      ],
      "metadata": {
        "id": "Jnyoq3Va9UbD"
      },
      "execution_count": null,
      "outputs": []
    },
    {
      "cell_type": "code",
      "source": [
        "#7th\n",
        "import pandas as pd\n",
        "\n",
        "df = pd.read_csv('data.csv')\n",
        "df['Phone'] = df['Phone'].str.replace(r'\\D', '', regex=True).astype('Int64')\n",
        "print(df.dtypes)\n"
      ],
      "metadata": {
        "id": "ucYBg0O49XZh"
      },
      "execution_count": null,
      "outputs": []
    },
    {
      "cell_type": "code",
      "source": [
        "#8th\n",
        "df = pd.read_csv('data.csv', skiprows=50, usecols=['Last Name', 'Gender', 'Email', 'Phone', 'Salary'])\n",
        "\n",
        "# (c)\n",
        "print(df.head(10))\n",
        "\n",
        "# (d)\n",
        "print(df['Salary'].tail())\n"
      ],
      "metadata": {
        "id": "a9quFeWC9a9Y"
      },
      "execution_count": null,
      "outputs": []
    },
    {
      "cell_type": "code",
      "source": [
        "#9th\n",
        "filtered = df[(df['Last Name'].str.contains('Duke')) &\n",
        "              (df['Gender'].str.contains('Female')) &\n",
        "              (df['Salary'] < 85000)]\n",
        "print(filtered)\n"
      ],
      "metadata": {
        "id": "763MZuAF9eQq"
      },
      "execution_count": null,
      "outputs": []
    },
    {
      "cell_type": "code",
      "source": [
        "#10th\n",
        "data = np.random.randint(1, 7, size=35)\n",
        "df = pd.DataFrame(data.reshape(7, 5))\n",
        "print(df)\n"
      ],
      "metadata": {
        "id": "FIOHSvZK9hJQ"
      },
      "execution_count": null,
      "outputs": []
    },
    {
      "cell_type": "code",
      "source": [
        "#11th\n",
        "s1 = pd.Series(np.random.randint(10, 51, size=50))\n",
        "s2 = pd.Series(np.random.randint(100, 1001, size=50))\n",
        "\n",
        "df = pd.concat([s1, s2], axis=1)\n",
        "df.columns = ['col1', 'col2']\n",
        "print(df)\n"
      ],
      "metadata": {
        "id": "6MS9CvVe9lBg"
      },
      "execution_count": null,
      "outputs": []
    },
    {
      "cell_type": "code",
      "source": [
        "#12th\n",
        "df = pd.read_csv('data.csv')\n",
        "df.drop(columns=['Email', 'Phone', 'Date of birth'], inplace=True)\n",
        "df.dropna(inplace=True)\n",
        "print(df)\n"
      ],
      "metadata": {
        "id": "U4g4QlIy9kxU"
      },
      "execution_count": null,
      "outputs": []
    },
    {
      "cell_type": "code",
      "source": [
        "#13th\n",
        "import matplotlib.pyplot as plt\n",
        "\n",
        "x = np.random.rand(100)\n",
        "y = np.random.rand(100)\n",
        "\n",
        "plt.scatter(x, y, color='red', marker='o', label='Points')\n",
        "plt.axhline(0.5, linestyle='--', label='y = 0.5')\n",
        "plt.axvline(0.5, linestyle=':', label='x = 0.5')\n",
        "plt.xlabel('X-axis')\n",
        "plt.ylabel('Y-axis')\n",
        "plt.title('Advanced Scatter Plot of Random Values')\n",
        "plt.legend()\n",
        "plt.show()\n"
      ],
      "metadata": {
        "id": "D7-8IrFP9kcd"
      },
      "execution_count": null,
      "outputs": []
    },
    {
      "cell_type": "code",
      "source": [
        "#14th\n",
        "dates = pd.date_range(start='2024-01-01', periods=30)\n",
        "temp = np.random.uniform(20, 40, size=30)\n",
        "humidity = np.random.uniform(30, 90, size=30)\n",
        "\n",
        "df = pd.DataFrame({'Date': dates, 'Temperature': temp, 'Humidity': humidity})\n",
        "fig, ax1 = plt.subplots()\n",
        "\n",
        "ax2 = ax1.twinx()\n",
        "ax1.plot(df['Date'], df['Temperature'], 'g-', label='Temperature')\n",
        "ax2.plot(df['Date'], df['Humidity'], 'b-', label='Humidity')\n",
        "\n",
        "ax1.set_xlabel('Date')\n",
        "ax1.set_ylabel('Temperature', color='g')\n",
        "ax2.set_ylabel('Humidity', color='b')\n",
        "plt.title('Temperature and Humidity Over Time')\n",
        "plt.show()\n"
      ],
      "metadata": {
        "id": "h0AcKJ0m9kJa"
      },
      "execution_count": null,
      "outputs": []
    },
    {
      "cell_type": "code",
      "source": [
        "#15th and 16th\n",
        "from scipy.stats import norm\n",
        "\n",
        "data = np.random.randn(1000)\n",
        "plt.hist(data, bins=30, density=True, alpha=0.6, color='g')\n",
        "xmin, xmax = plt.xlim()\n",
        "x = np.linspace(xmin, xmax, 100)\n",
        "p = norm.pdf(x, data.mean(), data.std())\n",
        "plt.plot(x, p, 'k', linewidth=2)\n",
        "\n",
        "plt.xlabel('Value')\n",
        "plt.ylabel('Frequency/Probability')\n",
        "plt.title('Histogram with PDF Overlay')\n",
        "plt.show()\n"
      ],
      "metadata": {
        "id": "6I_M3CW690hq"
      },
      "execution_count": null,
      "outputs": []
    },
    {
      "cell_type": "code",
      "source": [
        "#17th\n",
        "import seaborn as sns\n",
        "\n",
        "x = np.random.randn(100)\n",
        "y = np.random.randn(100)\n",
        "quadrant = ['Q1' if xi > 0 and yi > 0 else\n",
        "            'Q2' if xi < 0 and yi > 0 else\n",
        "            'Q3' if xi < 0 and yi < 0 else 'Q4'\n",
        "            for xi, yi in zip(x, y)]\n",
        "\n",
        "df = pd.DataFrame({'x': x, 'y': y, 'Quadrant': quadrant})\n",
        "sns.scatterplot(data=df, x='x', y='y', hue='Quadrant')\n",
        "plt.title('Quadrant-wise Scatter Plot')\n",
        "plt.xlabel('X')\n",
        "plt.ylabel('Y')\n",
        "plt.legend()\n",
        "plt.show()\n"
      ],
      "metadata": {
        "id": "4lby6U4p9220"
      },
      "execution_count": null,
      "outputs": []
    },
    {
      "cell_type": "code",
      "source": [
        "#18th\n",
        "from bokeh.plotting import figure, show, output_notebook\n",
        "import numpy as np\n",
        "\n",
        "output_notebook()\n",
        "\n",
        "x = np.linspace(0, 4*np.pi, 100)\n",
        "y = np.sin(x)\n",
        "\n",
        "p = figure(title=\"Sine Wave Function\", x_axis_label='x', y_axis_label='sin(x)')\n",
        "p.line(x, y, line_width=2)\n",
        "show(p)\n"
      ],
      "metadata": {
        "id": "EUPoxTs997Hi"
      },
      "execution_count": null,
      "outputs": []
    },
    {
      "cell_type": "code",
      "source": [
        "#19th\n",
        "from bokeh.models import ColumnDataSource, HoverTool\n",
        "from bokeh.palettes import Viridis256\n",
        "import random\n",
        "\n",
        "categories = ['A', 'B', 'C', 'D', 'E']\n",
        "values = [random.randint(10, 100) for _ in categories]\n",
        "colors = [Viridis256[val] for val in values]\n",
        "\n",
        "source = ColumnDataSource(data=dict(categories=categories, values=values, color=colors))\n",
        "p = figure(x_range=categories, title=\"Random Categorical Bar Chart\", x_axis_label='Category', y_axis_label='Value')\n",
        "\n",
        "p.vbar(x='categories', top='values', width=0.9, color='color', source=source)\n",
        "hover = HoverTool(tooltips=[(\"Value\", \"@values\")])\n",
        "p.add_tools(hover)\n",
        "\n",
        "show(p)\n"
      ],
      "metadata": {
        "id": "NI2BYJWa9-oy"
      },
      "execution_count": null,
      "outputs": []
    },
    {
      "cell_type": "code",
      "source": [
        "#20th\n",
        "import plotly.express as px\n",
        "\n",
        "df = pd.DataFrame({'x': np.arange(50), 'y': np.random.randn(50)})\n",
        "fig = px.line(df, x='x', y='y', title='Simple Line Plot', labels={'x': 'Index', 'y': 'Value'})\n",
        "fig.show()\n"
      ],
      "metadata": {
        "id": "NwUisCGj-Ak-"
      },
      "execution_count": null,
      "outputs": []
    },
    {
      "cell_type": "code",
      "source": [
        "#21st\n",
        "import plotly.graph_objects as go\n",
        "\n",
        "labels = ['A', 'B', 'C', 'D']\n",
        "values = [random.randint(10, 40) for _ in labels]\n",
        "\n",
        "fig = go.Figure(data=[go.Pie(labels=labels, values=values, textinfo='label+percent')])\n",
        "fig.update_layout(title='Interactive Pie Chart')\n",
        "fig.show()\n"
      ],
      "metadata": {
        "id": "tFiKUI5_-Dtb"
      },
      "execution_count": null,
      "outputs": []
    }
  ]
}