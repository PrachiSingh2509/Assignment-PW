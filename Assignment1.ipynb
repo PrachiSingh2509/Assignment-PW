{
  "nbformat": 4,
  "nbformat_minor": 0,
  "metadata": {
    "colab": {
      "provenance": []
    },
    "kernelspec": {
      "name": "python3",
      "display_name": "Python 3"
    },
    "language_info": {
      "name": "python"
    }
  },
  "cells": [
    {
      "cell_type": "code",
      "execution_count": null,
      "metadata": {
        "id": "jwKtbCbeeR4J"
      },
      "outputs": [],
      "source": []
    },
    {
      "cell_type": "markdown",
      "source": [
        "Q. Explain the key features of Python that make it a popular choice for programming.\n",
        "\n",
        "Ans. Python has several key features that contribute to its popularity:\n",
        "\n",
        "1. Readability: Python uses indentation and a clean syntax, making code easy to read and understand.\n",
        "2. Versatility: It's suitable for various applications, from web development to data analysis and machine learning.\n",
        "3. Large standard library: Python comes with a comprehensive standard library, reducing the need for external dependencies.\n",
        "4. Cross-platform compatibility: Python runs on multiple operating systems with minimal adjustments.\n",
        "5. Dynamic typing: Variables don't need explicit type declarations, speeding up development.\n",
        "6. Interpreted language: Code can be executed line by line, facilitating debugging and testing.\n",
        "7. Strong community support: A vast ecosystem of libraries, frameworks, and resources is available.\n",
        "8. Easy to learn: Its straightforward syntax makes it accessible for beginners.\n"
      ],
      "metadata": {
        "id": "azQn_vvFetE9"
      }
    },
    {
      "cell_type": "code",
      "source": [],
      "metadata": {
        "id": "ZYNLyzivhSNO"
      },
      "execution_count": null,
      "outputs": []
    },
    {
      "cell_type": "markdown",
      "source": [
        "Q. Describe the role of predefined keywords in Python and provide examples of how they are used in a program?\n",
        "\n",
        "Ans. Predefined keywords in Python play a crucial role in the language's syntax and structure. They are reserved words that have special meanings and functions within Python programs. Examples:\n",
        "\n",
        "1. Conditional statements: `if`, `elif`, and `else` are used for decision-making in the program flow.\n",
        "2. Loops: `for` and `while` are used for iteration and repeating code blocks.\n",
        "3. Function definition: `def` is used to define functions.\n",
        "4. Class definition: `class` is used to define classes in object-oriented programming.\n",
        "5. Module import: `import` and `from` are used to include external modules or specific functions from modules.\n",
        "6. Print: print() function used for printing.\n",
        "\n",
        "etc.\n",
        "\n",
        "These keywords are fundamental to Python's syntax and are essential for writing structured and functional Python programs. They help in controlling program flow, defining functions and classes, managing exceptions, and more."
      ],
      "metadata": {
        "id": "X3gLRELMihO7"
      }
    },
    {
      "cell_type": "code",
      "source": [
        "'''\n",
        "Keywords:\n",
        "Predefined word that hold special meaning and have specific purpose.\n",
        "Ex. print, type, etc. Its's meaning doesn't change they are defined.\n",
        "help('keywords') #Output will be all the keywords present in python will be shown.\n",
        "'''\n",
        "\n",
        "help('keywords')"
      ],
      "metadata": {
        "colab": {
          "base_uri": "https://localhost:8080/"
        },
        "id": "UGisy4cwj_BW",
        "outputId": "ea9ca8dc-aa65-4fed-d1ee-d16bd73d3386"
      },
      "execution_count": 1,
      "outputs": [
        {
          "output_type": "stream",
          "name": "stdout",
          "text": [
            "\n",
            "Here is a list of the Python keywords.  Enter any keyword to get more help.\n",
            "\n",
            "False               class               from                or\n",
            "None                continue            global              pass\n",
            "True                def                 if                  raise\n",
            "and                 del                 import              return\n",
            "as                  elif                in                  try\n",
            "assert              else                is                  while\n",
            "async               except              lambda              with\n",
            "await               finally             nonlocal            yield\n",
            "break               for                 not                 \n",
            "\n"
          ]
        }
      ]
    },
    {
      "cell_type": "code",
      "source": [
        "for i in range(10):\n",
        "  print(i)"
      ],
      "metadata": {
        "colab": {
          "base_uri": "https://localhost:8080/"
        },
        "id": "3u3972J_ketm",
        "outputId": "27cb011d-2581-4d20-e3ee-131771130911"
      },
      "execution_count": 2,
      "outputs": [
        {
          "output_type": "stream",
          "name": "stdout",
          "text": [
            "0\n",
            "1\n",
            "2\n",
            "3\n",
            "4\n",
            "5\n",
            "6\n",
            "7\n",
            "8\n",
            "9\n"
          ]
        }
      ]
    },
    {
      "cell_type": "markdown",
      "source": [
        "Q. Compare and contrast mutable and immutable objects in Python with examples.\n",
        "Ans.\n",
        "#Immutable Objects:\n",
        "Cannot be changed after creation\n",
        "Include: integers, floats, strings, tuples, frozensets\n",
        "When you try to modify them, a new object is created\n",
        "Examples in the code: strings, tuples, integers\n",
        "\n",
        "\n",
        "#Mutable Objects:\n",
        "Can be modified after creation\n",
        "Include: lists, dictionaries, sets\n",
        "Modifications affect the original object\n",
        "Examples in the code: lists, dictionaries, sets\n",
        "\n",
        "#Key Differences:\n",
        "\n",
        "1. Immutable: Attempting to modify creates a new object\n",
        "Mutable: Can be modified in-place\n",
        "2. Immutable: New object created on modification, may lead to more memory usage\n",
        "Mutable: Modified in-place, more memory-efficient for large objects.\n",
        "3. Immutable: Id changes when \"modified\" (actually creating a new object)\n",
        "Mutable: Id remains the same after modification\n",
        "4. Immutable: Changes inside a function don't affect the original object\n",
        "Mutable: Changes inside a function affect the original object."
      ],
      "metadata": {
        "id": "LJXUzk9Ek2rw"
      }
    },
    {
      "cell_type": "code",
      "source": [
        "# tuples are immutable\n",
        "\n",
        "tuple1 = (0, 1, 2, 3)\n",
        "tuple1[0] = 4\n",
        "print(tuple1)"
      ],
      "metadata": {
        "colab": {
          "base_uri": "https://localhost:8080/",
          "height": 193
        },
        "id": "1WkjJbaunS1p",
        "outputId": "e8902782-3126-4d38-cafb-51a1b1b759a9"
      },
      "execution_count": 3,
      "outputs": [
        {
          "output_type": "error",
          "ename": "TypeError",
          "evalue": "'tuple' object does not support item assignment",
          "traceback": [
            "\u001b[0;31m---------------------------------------------------------------------------\u001b[0m",
            "\u001b[0;31mTypeError\u001b[0m                                 Traceback (most recent call last)",
            "\u001b[0;32m<ipython-input-3-54a20db36bf4>\u001b[0m in \u001b[0;36m<cell line: 4>\u001b[0;34m()\u001b[0m\n\u001b[1;32m      2\u001b[0m \u001b[0;34m\u001b[0m\u001b[0m\n\u001b[1;32m      3\u001b[0m \u001b[0mtuple1\u001b[0m \u001b[0;34m=\u001b[0m \u001b[0;34m(\u001b[0m\u001b[0;36m0\u001b[0m\u001b[0;34m,\u001b[0m \u001b[0;36m1\u001b[0m\u001b[0;34m,\u001b[0m \u001b[0;36m2\u001b[0m\u001b[0;34m,\u001b[0m \u001b[0;36m3\u001b[0m\u001b[0;34m)\u001b[0m\u001b[0;34m\u001b[0m\u001b[0;34m\u001b[0m\u001b[0m\n\u001b[0;32m----> 4\u001b[0;31m \u001b[0mtuple1\u001b[0m\u001b[0;34m[\u001b[0m\u001b[0;36m0\u001b[0m\u001b[0;34m]\u001b[0m \u001b[0;34m=\u001b[0m \u001b[0;36m4\u001b[0m\u001b[0;34m\u001b[0m\u001b[0;34m\u001b[0m\u001b[0m\n\u001b[0m\u001b[1;32m      5\u001b[0m \u001b[0mprint\u001b[0m\u001b[0;34m(\u001b[0m\u001b[0mtuple1\u001b[0m\u001b[0;34m)\u001b[0m\u001b[0;34m\u001b[0m\u001b[0;34m\u001b[0m\u001b[0m\n",
            "\u001b[0;31mTypeError\u001b[0m: 'tuple' object does not support item assignment"
          ]
        }
      ]
    },
    {
      "cell_type": "code",
      "source": [
        "#List is mutable\n",
        "my_list = [1, 2, 3]\n",
        "my_list.append(4)\n",
        "print(my_list)\n",
        "\n",
        "my_list.insert(1, 5)\n",
        "print(my_list)\n",
        "\n",
        "my_list.remove(2)\n",
        "print(my_list)\n",
        "\n",
        "popped_element = my_list.pop(0)\n",
        "print(my_list)\n",
        "print(popped_element)"
      ],
      "metadata": {
        "colab": {
          "base_uri": "https://localhost:8080/"
        },
        "id": "K0auq1YRoAxw",
        "outputId": "d225cebf-34f3-4412-9340-e878d2635389"
      },
      "execution_count": 4,
      "outputs": [
        {
          "output_type": "stream",
          "name": "stdout",
          "text": [
            "[1, 2, 3, 4]\n",
            "[1, 5, 2, 3, 4]\n",
            "[1, 5, 3, 4]\n",
            "[5, 3, 4]\n",
            "1\n"
          ]
        }
      ]
    },
    {
      "cell_type": "markdown",
      "source": [
        "Q.  Discuss the different types of operators in Python and p$ovide examples of how they are used.\n",
        "\n",
        "Ans. when we want to manipulate data we want some operation and for that we use operators.\n",
        "python operators-Special keywords or symbols that are used to perform some operations on values or variables.\n",
        "Why? Because we want to manage, do computation and make decision using data."
      ],
      "metadata": {
        "id": "yFUs2_ORoSgp"
      }
    },
    {
      "cell_type": "code",
      "source": [
        "a=2\n",
        "b = 3\n",
        "a+b #here + is operator which help to get the sum as 5.\n"
      ],
      "metadata": {
        "colab": {
          "base_uri": "https://localhost:8080/"
        },
        "id": "xiy1ofISorex",
        "outputId": "2fe35ac2-d9fe-4c95-c74b-006d8cfb3b0b"
      },
      "execution_count": 5,
      "outputs": [
        {
          "output_type": "execute_result",
          "data": {
            "text/plain": [
              "5"
            ]
          },
          "metadata": {},
          "execution_count": 5
        }
      ]
    },
    {
      "cell_type": "code",
      "source": [
        "a=3\n",
        "b=2"
      ],
      "metadata": {
        "id": "3qa8tEeMo3Ph"
      },
      "execution_count": 7,
      "outputs": []
    },
    {
      "cell_type": "code",
      "source": [
        "# Arithmetic operators\n",
        "add = a+b\n",
        "100-3\n",
        "3*5\n",
        "3-5\n",
        "21/4 #Division\n",
        "21 % 4 #Modulus\n",
        "2**5 #This means 2 to the power 5\n",
        "3**100\n"
      ],
      "metadata": {
        "colab": {
          "base_uri": "https://localhost:8080/"
        },
        "id": "bcHFdPNDo89_",
        "outputId": "91ab5b9e-08ed-406a-b6d8-6e5f89c2805c"
      },
      "execution_count": 8,
      "outputs": [
        {
          "output_type": "execute_result",
          "data": {
            "text/plain": [
              "515377520732011331036461129765621272702107522001"
            ]
          },
          "metadata": {},
          "execution_count": 8
        }
      ]
    },
    {
      "cell_type": "code",
      "source": [
        "# floor operator\n",
        "\n",
        "4//3  #we want the nearest round value\n",
        "\n"
      ],
      "metadata": {
        "colab": {
          "base_uri": "https://localhost:8080/"
        },
        "id": "J4O9eN1gpC8K",
        "outputId": "a40438b8-0d6c-46e3-8359-30c8040f5880"
      },
      "execution_count": 13,
      "outputs": [
        {
          "output_type": "execute_result",
          "data": {
            "text/plain": [
              "1"
            ]
          },
          "metadata": {},
          "execution_count": 13
        }
      ]
    },
    {
      "cell_type": "code",
      "source": [
        "# Comparision operator\n",
        "#It compare 2 value >> compare >>return true or false.\n",
        "2 == 2\n",
        "2 != 2\n",
        "5 != 2\n",
        "10>3\n",
        "10>=5\n",
        "10<9\n",
        "10 <= 14"
      ],
      "metadata": {
        "colab": {
          "base_uri": "https://localhost:8080/"
        },
        "id": "2cbVRvs9psQL",
        "outputId": "edcd7d42-32c6-4294-9ebf-41754e9aced6"
      },
      "execution_count": 15,
      "outputs": [
        {
          "output_type": "execute_result",
          "data": {
            "text/plain": [
              "True"
            ]
          },
          "metadata": {},
          "execution_count": 15
        }
      ]
    },
    {
      "cell_type": "code",
      "source": [
        "# Logical operator\n",
        "\n",
        "#It is of 2 types: and & Or\n",
        "True - False\n"
      ],
      "metadata": {
        "colab": {
          "base_uri": "https://localhost:8080/"
        },
        "id": "v4JSry8_p2_G",
        "outputId": "84b725f1-c3eb-4c35-9ec4-86cafd1659a4"
      },
      "execution_count": 17,
      "outputs": [
        {
          "output_type": "execute_result",
          "data": {
            "text/plain": [
              "1"
            ]
          },
          "metadata": {},
          "execution_count": 17
        }
      ]
    },
    {
      "cell_type": "code",
      "source": [
        "# not operator\n",
        "not True #Output will be False"
      ],
      "metadata": {
        "colab": {
          "base_uri": "https://localhost:8080/"
        },
        "id": "SwwzVk-cqNG7",
        "outputId": "afa1ed78-d83b-4b3e-8750-4ce7102b4fdf"
      },
      "execution_count": 18,
      "outputs": [
        {
          "output_type": "execute_result",
          "data": {
            "text/plain": [
              "False"
            ]
          },
          "metadata": {},
          "execution_count": 18
        }
      ]
    },
    {
      "cell_type": "code",
      "source": [
        "#6. Assignment operator\n",
        "a = 10 #We assigned value to a\n",
        "a"
      ],
      "metadata": {
        "colab": {
          "base_uri": "https://localhost:8080/"
        },
        "id": "U7o0mYwJqaH4",
        "outputId": "2d2d14ec-3822-495a-b49e-e0616a0059a3"
      },
      "execution_count": 19,
      "outputs": [
        {
          "output_type": "execute_result",
          "data": {
            "text/plain": [
              "10"
            ]
          },
          "metadata": {},
          "execution_count": 19
        }
      ]
    },
    {
      "cell_type": "code",
      "source": [
        "#7. Membership operator.\n",
        "\n",
        "a = \"pwskills\"\n",
        "#We have to check if p is there in a or not?\n",
        "\"p\" in a #Output will be True"
      ],
      "metadata": {
        "colab": {
          "base_uri": "https://localhost:8080/"
        },
        "id": "RnRH_uw8qhh2",
        "outputId": "a4accffe-3f0c-4864-c866-8f921d3ee597"
      },
      "execution_count": 20,
      "outputs": [
        {
          "output_type": "execute_result",
          "data": {
            "text/plain": [
              "True"
            ]
          },
          "metadata": {},
          "execution_count": 20
        }
      ]
    },
    {
      "cell_type": "code",
      "source": [
        "#8. identity operator\n",
        "#It compares the location of two objects/variable in memory.\n",
        "a = 2\n",
        "b = 3\n",
        "a is b #Is both referring to same memory block? No"
      ],
      "metadata": {
        "colab": {
          "base_uri": "https://localhost:8080/"
        },
        "id": "GinYgDbQqnOm",
        "outputId": "d29e2d42-1f70-4ebf-f779-b6a67a1db32a"
      },
      "execution_count": 22,
      "outputs": [
        {
          "output_type": "execute_result",
          "data": {
            "text/plain": [
              "False"
            ]
          },
          "metadata": {},
          "execution_count": 22
        }
      ]
    },
    {
      "cell_type": "code",
      "source": [
        "#9. bitwise operator\n",
        "#Operations at bit level(0 & 1), manipulating individual bits within integer.\n",
        "\n",
        "#Bit wise representation\n",
        "\n",
        "#&, |, ~, ^, XOR"
      ],
      "metadata": {
        "id": "6uVcirCAqrVS"
      },
      "execution_count": 23,
      "outputs": []
    },
    {
      "cell_type": "code",
      "source": [
        "\"\"\"12. Shift operator: left shift & right shift\n",
        "Shift operator shifts the bit to the left/right by specified number of position.\n",
        "\n",
        "Left shift << shifts the bit to left by no. of position by filling 0's on right.\n",
        "35 << 3\n",
        "bin(35) # 10011\n",
        "#35 shift by 3 means 10011000 (3 0's added to right) so value is 280\n",
        "bin(280) #100011000\n",
        "\n",
        "\n",
        "5 << 1 #10\n",
        "\n",
        "\n",
        "right shift operator\n",
        "280 >> 3 # 35\n",
        "#remove the number of elements in the binary.\n",
        "280 >> 3\n",
        "\"\"\""
      ],
      "metadata": {
        "id": "AGHmpnnOq22K"
      },
      "execution_count": null,
      "outputs": []
    },
    {
      "cell_type": "markdown",
      "source": [
        "Q. Explain the concept of type casting in Python with examples.\n",
        "\n",
        "Ans. Type casting in Python refers to the process of converting a value from one data type to another. This is a fundamental concept in programming, allowing for flexibility in how data is used and manipulated.\n",
        "It is of two types:\n",
        "1. Implicit:\n",
        "Python automatically converts one data type to another when needed.\n",
        "Example: When adding an integer and a float, Python converts the integer to a float.\n",
        "2. Explicit:\n",
        "The programmer manually converts one data type to another using built-in functions.\n",
        "Common type casting functions:\n",
        "\n",
        "int(): Converts to integer\n",
        "float(): Converts to float\n",
        "str(): Converts to string\n",
        "bool(): Converts to boolean\n",
        "list(): Converts to list\n",
        "tuple(): Converts to tuple\n"
      ],
      "metadata": {
        "id": "zmUt0DgRrCaN"
      }
    },
    {
      "cell_type": "code",
      "source": [
        "# 1. Implicit Type Casting (Coercion)\n",
        "print(\"Implicit Type Casting:\")\n",
        "x = 5\n",
        "y = 2.0\n",
        "result = x + y\n",
        "print(result)"
      ],
      "metadata": {
        "colab": {
          "base_uri": "https://localhost:8080/"
        },
        "id": "vrBlmePxq85t",
        "outputId": "761e1fa5-fddb-41ee-b71a-cedc810e1138"
      },
      "execution_count": 25,
      "outputs": [
        {
          "output_type": "stream",
          "name": "stdout",
          "text": [
            "Implicit Type Casting:\n",
            "7.0\n"
          ]
        }
      ]
    },
    {
      "cell_type": "code",
      "source": [
        "# 2. Explicit Type Casting\n",
        "print(\"\\nExplicit Type Casting:\")\n",
        "\n",
        "# Integer to Float\n",
        "int_num = 10\n",
        "float_num = float(int_num)\n",
        "print(float_num)"
      ],
      "metadata": {
        "colab": {
          "base_uri": "https://localhost:8080/"
        },
        "id": "FV7et8PnsFO2",
        "outputId": "ab3b456d-9b1b-4560-d013-8f9ffe61744d"
      },
      "execution_count": 26,
      "outputs": [
        {
          "output_type": "stream",
          "name": "stdout",
          "text": [
            "\n",
            "Explicit Type Casting:\n",
            "10.0\n"
          ]
        }
      ]
    },
    {
      "cell_type": "markdown",
      "source": [
        "Q. How do conditional statements work in Python? Illustrate with examples.\n",
        "Ans. There are situations in real life when we need to do some specific task and based on some specific conditions, we decide what we should do next. Similarly, there comes a situation in programming where a specific task is to be performed if a specific condition is True. In such cases, conditional statements can be used.\n",
        "Ex. I will keep checking out the dishes in a buffet.\n",
        "Helps to code based on some condition.\n",
        "\n",
        "1. if:-\n",
        "if condition True:\n",
        "   block of code will be executed\n",
        "2. if-else :Two conditions\n",
        "3. if-elif-else :Multiple condition, we can have multiple elif.\n",
        "4. nested-if else: You can have multiple if else inside if else."
      ],
      "metadata": {
        "id": "NwA2szlHsYXX"
      }
    },
    {
      "cell_type": "code",
      "source": [
        "x = 1\n",
        "y = 6\n",
        "if x > 5:\n",
        "  if y > 5:\n",
        "    print(\"hnhdbh\")\n",
        "  else:\n",
        "    print(\"gew\")\n",
        "else:\n",
        "  print(\"cdrfyth\")"
      ],
      "metadata": {
        "colab": {
          "base_uri": "https://localhost:8080/"
        },
        "id": "HJ0eGyRFsS3C",
        "outputId": "7bc5dce9-6b14-4e7e-a318-dbf9b6154371"
      },
      "execution_count": 27,
      "outputs": [
        {
          "output_type": "stream",
          "name": "stdout",
          "text": [
            "cdrfyth\n"
          ]
        }
      ]
    },
    {
      "cell_type": "code",
      "source": [
        "# if..else chain statement\n",
        "letter = \"A\"\n",
        "\n",
        "if letter == \"B\":\n",
        "    print(\"letter is B\")\n",
        "\n",
        "else:\n",
        "\n",
        "    if letter == \"C\":\n",
        "        print(\"letter is C\")\n",
        "\n",
        "    else:\n",
        "\n",
        "        if letter == \"A\":\n",
        "            print(\"letter is A\")\n",
        "\n",
        "        else:\n",
        "            print(\"letter isn't A, B and C\")"
      ],
      "metadata": {
        "colab": {
          "base_uri": "https://localhost:8080/"
        },
        "id": "WL8g0HPwyBxV",
        "outputId": "3ba3ec77-31e5-4172-b391-2846edfa3def"
      },
      "execution_count": 28,
      "outputs": [
        {
          "output_type": "stream",
          "name": "stdout",
          "text": [
            "letter is A\n"
          ]
        }
      ]
    },
    {
      "cell_type": "markdown",
      "source": [
        "Q. Describe the different types of loops in Python and their use cases with examples.\n",
        "\n",
        "Ans. Python programming language provides two types of Python loopshecking time.For loop and While loop to handle looping requirements.\n",
        "It allows you to execute block of code repeatedly.\n",
        "Two types of loop: while & for\n",
        "\n",
        "1. while loop:-\n",
        "\n",
        "It repeatedly executes a block of code until a condition is met.\n",
        "syntax: while->it is keyword\n",
        "\n",
        "while condition:\n",
        "  \n",
        "  block of code to bee executed"
      ],
      "metadata": {
        "id": "qsO-Nxjqy1Eg"
      }
    },
    {
      "cell_type": "code",
      "source": [
        "n = 7\n",
        "i = 1\n",
        "while i < n:\n",
        "  print(i)\n",
        "  i = i + 1"
      ],
      "metadata": {
        "colab": {
          "base_uri": "https://localhost:8080/"
        },
        "id": "o7hTwMNZzxJF",
        "outputId": "84f283e6-36be-45d3-b0eb-82f75e0452be"
      },
      "execution_count": 29,
      "outputs": [
        {
          "output_type": "stream",
          "name": "stdout",
          "text": [
            "1\n",
            "2\n",
            "3\n",
            "4\n",
            "5\n",
            "6\n"
          ]
        }
      ]
    },
    {
      "cell_type": "code",
      "source": [
        "#We have else also with while.\n",
        "count = 5\n",
        "while count>0:\n",
        "  print(count)\n",
        "  count = count - 1\n",
        "else:\n",
        "  print(\"This will be executed when the while loop run without any break.\")\n"
      ],
      "metadata": {
        "colab": {
          "base_uri": "https://localhost:8080/"
        },
        "id": "hppuNtVz0ACi",
        "outputId": "75324a00-24a4-472a-fa95-2f0a83ef60b9"
      },
      "execution_count": 31,
      "outputs": [
        {
          "output_type": "stream",
          "name": "stdout",
          "text": [
            "5\n",
            "4\n",
            "3\n",
            "2\n",
            "1\n",
            "This will be executed when the while loop run without any break.\n"
          ]
        }
      ]
    },
    {
      "cell_type": "code",
      "source": [
        "#Break statement in while loop:\n",
        "n = 7\n",
        "i = 1\n",
        "while i < n:\n",
        "  print(i)\n",
        "  i = i + 1\n",
        "  if i == 3:\n",
        "    break\n",
        "else:\n",
        "  print(\"This will be executed when the while loop run without any break.\")"
      ],
      "metadata": {
        "colab": {
          "base_uri": "https://localhost:8080/"
        },
        "id": "cjfCudJR0HLV",
        "outputId": "6f63e2af-8f72-4297-dd79-ebce2b1a1199"
      },
      "execution_count": 32,
      "outputs": [
        {
          "output_type": "stream",
          "name": "stdout",
          "text": [
            "1\n",
            "2\n"
          ]
        }
      ]
    },
    {
      "cell_type": "code",
      "source": [
        "#Continue statement\n",
        "#It skips the iteration.\n",
        "\n",
        "n = 7\n",
        "i = 1\n",
        "while i < n:\n",
        "  i = i + 1\n",
        "  if i == 3:\n",
        "    continue\n",
        "  print(i)\n",
        "else:\n",
        "  print(\"This will be executed when the while loop run without any break.\")"
      ],
      "metadata": {
        "colab": {
          "base_uri": "https://localhost:8080/"
        },
        "id": "b88ZNL720RZj",
        "outputId": "e6625a8a-5903-4b28-acc7-eabc973e338c"
      },
      "execution_count": 34,
      "outputs": [
        {
          "output_type": "stream",
          "name": "stdout",
          "text": [
            "2\n",
            "4\n",
            "5\n",
            "6\n",
            "7\n",
            "This will be executed when the while loop run without any break.\n"
          ]
        }
      ]
    },
    {
      "cell_type": "markdown",
      "source": [
        "#For loop\n",
        "Iterate over a sequence of elements.\n",
        "Strings, list are sequential data."
      ],
      "metadata": {
        "id": "D0jLljRI0bKM"
      }
    },
    {
      "cell_type": "code",
      "source": [
        "for i in \"pwskills\":\n",
        "  print(i)"
      ],
      "metadata": {
        "colab": {
          "base_uri": "https://localhost:8080/"
        },
        "id": "qE3SIVeX0Ztk",
        "outputId": "2db75900-dbdb-48e8-e7b4-a0f6793b31f7"
      },
      "execution_count": 35,
      "outputs": [
        {
          "output_type": "stream",
          "name": "stdout",
          "text": [
            "p\n",
            "w\n",
            "s\n",
            "k\n",
            "i\n",
            "l\n",
            "l\n",
            "s\n"
          ]
        }
      ]
    },
    {
      "cell_type": "code",
      "source": [
        "#Break statement in for loop:\n",
        "L = [1,2,\"Ajay\", \"Prachi\"]\n",
        "for i in L:\n",
        "  if i  == \"Ajay\":\n",
        "    break\n",
        "  print(i)\n",
        "else:\n",
        "  print(\"This will be executed when for loop ends without a break statement\")"
      ],
      "metadata": {
        "colab": {
          "base_uri": "https://localhost:8080/"
        },
        "id": "VFXVc_0g0mEi",
        "outputId": "e441fb0b-6ec4-4c52-dafc-5f67e1475f94"
      },
      "execution_count": 38,
      "outputs": [
        {
          "output_type": "stream",
          "name": "stdout",
          "text": [
            "1\n",
            "2\n"
          ]
        }
      ]
    },
    {
      "cell_type": "code",
      "source": [
        "#Continue statement in for loop:\n",
        "for i in L:\n",
        "  if i == \"Ajay\":\n",
        "    continue\n",
        "  print(i)\n",
        "else:\n",
        "  print(\"This will be executed when for loop ends without a break statement\")"
      ],
      "metadata": {
        "colab": {
          "base_uri": "https://localhost:8080/"
        },
        "id": "eitpDyky041e",
        "outputId": "fd1b1099-a92a-468b-bb46-211b00507909"
      },
      "execution_count": 39,
      "outputs": [
        {
          "output_type": "stream",
          "name": "stdout",
          "text": [
            "1\n",
            "2\n",
            "Prachi\n",
            "This will be executed when for loop ends without a break statement\n"
          ]
        }
      ]
    },
    {
      "cell_type": "markdown",
      "source": [],
      "metadata": {
        "id": "YXU983Wd0RFd"
      }
    }
  ]
}