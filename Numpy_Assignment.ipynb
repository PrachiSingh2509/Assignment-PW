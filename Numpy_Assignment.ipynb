{
  "nbformat": 4,
  "nbformat_minor": 0,
  "metadata": {
    "colab": {
      "provenance": []
    },
    "kernelspec": {
      "name": "python3",
      "display_name": "Python 3"
    },
    "language_info": {
      "name": "python"
    }
  },
  "cells": [
    {
      "cell_type": "markdown",
      "source": [
        "###THEORETICAL QUESTIONS"
      ],
      "metadata": {
        "id": "K2TimjNsV0yf"
      }
    },
    {
      "cell_type": "markdown",
      "source": [
        "1. Explain the purpose and advantages of NumPy in scientific computing and data analysis. How does it enhance Python's capabilities for numerical operations?"
      ],
      "metadata": {
        "id": "lYlWbVw0V_GC"
      }
    },
    {
      "cell_type": "markdown",
      "source": [
        "Purpose: NumPy is a fundamental library for scientific computing in Python, providing support for large, multi-dimensional arrays and matrices.\n",
        "\n",
        "Advantages:\n",
        "-->Performance: NumPy operations are implemented in C, making them faster than standard Python loops.\n",
        "-->Convenience: It offers a wide range of mathematical functions and tools for array manipulation.\n",
        "-->Memory Efficiency: It uses contiguous memory blocks for arrays, reducing overhead compared to Python lists."
      ],
      "metadata": {
        "id": "PHGLxujSWMgO"
      }
    },
    {
      "cell_type": "markdown",
      "source": [
        "2. Compare and contrast np.mean() and np.average() functions in NumPy. When would you use one over the other?"
      ],
      "metadata": {
        "id": "mmEEkojbWOg9"
      }
    },
    {
      "cell_type": "code",
      "source": [
        "#np.mean(): Computes the arithmetic mean along the specified axis.\n",
        "import numpy as np\n",
        "arr = np.array([1, 2, 3])\n",
        "print(np.mean(arr))\n",
        "\n",
        "#np.average(): Allows weighting of elements and computes the weighted average.\n",
        "weights = np.array([1, 2, 3])\n",
        "print(np.average(arr, weights=weights))\n",
        "\n",
        "\n",
        "#Use Case: Use np.mean() for simple averaging, and np.average() when weights are involved.\n"
      ],
      "metadata": {
        "colab": {
          "base_uri": "https://localhost:8080/"
        },
        "id": "pXQMAzL-WG_c",
        "outputId": "daaa1eb9-cc7b-4dd9-eb78-bcbe0e976105"
      },
      "execution_count": 1,
      "outputs": [
        {
          "output_type": "stream",
          "name": "stdout",
          "text": [
            "2.0\n",
            "2.3333333333333335\n"
          ]
        }
      ]
    },
    {
      "cell_type": "markdown",
      "source": [
        "3. Describe the methods for reversing a NumPy array along different axes. Provide examples for 1D and 2D arrays."
      ],
      "metadata": {
        "id": "aDyvfpoQWfhz"
      }
    },
    {
      "cell_type": "code",
      "source": [
        "#1D Array\n",
        "arr1d = np.array([1, 2, 3, 4])\n",
        "print(arr1d[::-1])\n",
        "print(\"\\n\")\n",
        "\n",
        "#2D Array\n",
        "arr2d = np.array([[1, 2], [3, 4]])\n",
        "print(arr2d[::-1])  # Reverse rows\n",
        "print(arr2d[:, ::-1])  # Reverse columns"
      ],
      "metadata": {
        "colab": {
          "base_uri": "https://localhost:8080/"
        },
        "id": "i2klqKVYWtEI",
        "outputId": "29341872-0fad-4847-8713-662f85d7130d"
      },
      "execution_count": 2,
      "outputs": [
        {
          "output_type": "stream",
          "name": "stdout",
          "text": [
            "[4 3 2 1]\n",
            "\n",
            "\n",
            "[[3 4]\n",
            " [1 2]]\n",
            "[[2 1]\n",
            " [4 3]]\n"
          ]
        }
      ]
    },
    {
      "cell_type": "markdown",
      "source": [
        "4. How can you determine the data type of elements in a NumPy array? Discuss the importance of data types in memory management and performance.\n"
      ],
      "metadata": {
        "id": "lT3ZzL5CWxix"
      }
    },
    {
      "cell_type": "code",
      "source": [
        "#Use the .dtype attribute to determine the data type of a NumPy array.\n",
        "arr = np.array([1, 2, 3], dtype=float)\n",
        "print(arr.dtype)\n",
        "\n",
        "#Importance: Data types influence memory usage and performance. For example, using float32 instead of float64 saves memory.\n"
      ],
      "metadata": {
        "colab": {
          "base_uri": "https://localhost:8080/"
        },
        "id": "mJubaikeWysU",
        "outputId": "e86668b6-8a85-43d6-e9a8-4a6274768283"
      },
      "execution_count": 3,
      "outputs": [
        {
          "output_type": "stream",
          "name": "stdout",
          "text": [
            "float64\n"
          ]
        }
      ]
    },
    {
      "cell_type": "markdown",
      "source": [
        "5. Define ndarrays in NumPy and explain their key features. How do they differ from standard Python lists?"
      ],
      "metadata": {
        "id": "YpUTuzC9W4AN"
      }
    },
    {
      "cell_type": "markdown",
      "source": [
        "ndarray: NumPy's core data structure representing n-dimensional arrays.\n",
        "\n",
        "Key Features:\n",
        "-->Homogeneous data types.\n",
        "-->Fixed size.\n",
        "-->Supports vectorized operations.\n",
        "\n",
        "Difference from Lists: Unlike Python lists, ndarrays have a fixed size and are more memory-efficient and faster for numerical operations.\n"
      ],
      "metadata": {
        "id": "AjTfMHdNXAbe"
      }
    },
    {
      "cell_type": "markdown",
      "source": [
        "6. Analyze the performance benefits of NumPy arrays over Python lists for large-scale numerical operations."
      ],
      "metadata": {
        "id": "rtVAebrXXIIO"
      }
    },
    {
      "cell_type": "markdown",
      "source": [
        "NumPy arrays are faster than Python lists for large-scale numerical operations due to:\n",
        "-->Contiguous memory storage: Better cache performance.\n",
        "-->Optimized operations: Built-in functions are implemented in C, avoiding Python overhead."
      ],
      "metadata": {
        "id": "1sA1jhfuXKfg"
      }
    },
    {
      "cell_type": "markdown",
      "source": [
        "7. Compare vstack() and hstack() functions in NumPy. Provide examples demonstrating their usage and output."
      ],
      "metadata": {
        "id": "R-piLb-BXQ5b"
      }
    },
    {
      "cell_type": "code",
      "source": [
        "#np.vstack(): Stacks arrays vertically (row-wise).\n",
        "arr1 = np.array([[1, 2], [3, 4]])\n",
        "arr2 = np.array([[5, 6]])\n",
        "print(np.vstack((arr1, arr2)))  # Output: [[1, 2], [3, 4], [5, 6]]\n",
        "\n",
        "#np.hstack(): Stacks arrays horizontally (column-wise).\n",
        "arr3 = np.array([[7], [8]])\n",
        "print(np.hstack((arr1, arr3)))  # Output: [[1, 2, 7], [3, 4, 8]]\n"
      ],
      "metadata": {
        "colab": {
          "base_uri": "https://localhost:8080/"
        },
        "id": "294mIdyGXjCc",
        "outputId": "bf2da0a5-f25a-4dfd-d36f-5db633326a52"
      },
      "execution_count": 4,
      "outputs": [
        {
          "output_type": "stream",
          "name": "stdout",
          "text": [
            "[[1 2]\n",
            " [3 4]\n",
            " [5 6]]\n",
            "[[1 2 7]\n",
            " [3 4 8]]\n"
          ]
        }
      ]
    },
    {
      "cell_type": "markdown",
      "source": [
        "8. Explain the differences between fliplr() and flipud() methods in NumPy, including their effects on various array dimensions."
      ],
      "metadata": {
        "id": "opwz_rndXrzE"
      }
    },
    {
      "cell_type": "code",
      "source": [
        "#np.fliplr(): Flips an array left to right.\n",
        "arr = np.array([[1, 2], [3, 4]])\n",
        "print(np.fliplr(arr))  # Output: [[2, 1], [4, 3]]\n",
        "\n",
        "#np.flipud(): Flips an array up to down.\n",
        "print(np.flipud(arr))  # Output: [[3, 4], [1, 2]]"
      ],
      "metadata": {
        "colab": {
          "base_uri": "https://localhost:8080/"
        },
        "id": "UtPrbYFgX01x",
        "outputId": "47cf8097-e00f-4186-ce64-62fcf9850a8a"
      },
      "execution_count": 6,
      "outputs": [
        {
          "output_type": "stream",
          "name": "stdout",
          "text": [
            "[[2 1]\n",
            " [4 3]]\n",
            "[[3 4]\n",
            " [1 2]]\n"
          ]
        }
      ]
    },
    {
      "cell_type": "markdown",
      "source": [
        "9. Discuss the functionality of the array_split() method in NumPy. How does it handle uneven splits?"
      ],
      "metadata": {
        "id": "1nZO6JijX_X0"
      }
    },
    {
      "cell_type": "code",
      "source": [
        "#np.array_split() splits an array into multiple sub-arrays. It handles uneven splits by distributing leftover elements among the splits.\n",
        "arr = np.array([1, 2, 3, 4, 5])\n",
        "splits = np.array_split(arr, 3)\n",
        "print(splits)"
      ],
      "metadata": {
        "colab": {
          "base_uri": "https://localhost:8080/"
        },
        "id": "Gx31tsO8YDDi",
        "outputId": "21c87627-2432-497e-d6b9-a574894f92d9"
      },
      "execution_count": 7,
      "outputs": [
        {
          "output_type": "stream",
          "name": "stdout",
          "text": [
            "[array([1, 2]), array([3, 4]), array([5])]\n"
          ]
        }
      ]
    },
    {
      "cell_type": "markdown",
      "source": [
        "10. Explain the concepts of vectorization and broadcasting in NumPy. How do they contribute to efficient array operations?"
      ],
      "metadata": {
        "id": "3Q59zn-_YM56"
      }
    },
    {
      "cell_type": "code",
      "source": [
        "#Vectorization: Refers to operations applied to entire arrays rather than element-wise loops, significantly speeding up computations.\n",
        "a = np.array([1, 2, 3])\n",
        "b = np.array([4, 5, 6])\n",
        "print(a + b)  # Output: [5, 7, 9]\n",
        "\n",
        "#Broadcasting: Allows NumPy to perform operations on arrays of different shapes, making it possible to work with arrays without explicit replication.\n",
        "a = np.array([1, 2, 3])\n",
        "b = np.array([[1], [2], [3]])\n",
        "print(a + b)  # Output: [[2, 3, 4], [3, 4, 5], [4, 5, 6]]\n",
        "\n",
        "#Both concepts enhance efficiency and simplify code for array operations."
      ],
      "metadata": {
        "colab": {
          "base_uri": "https://localhost:8080/"
        },
        "id": "bvbhLj8AYQdP",
        "outputId": "d83466c9-62de-4ebe-c975-0e330e0508a4"
      },
      "execution_count": 8,
      "outputs": [
        {
          "output_type": "stream",
          "name": "stdout",
          "text": [
            "[5 7 9]\n",
            "[[2 3 4]\n",
            " [3 4 5]\n",
            " [4 5 6]]\n"
          ]
        }
      ]
    },
    {
      "cell_type": "markdown",
      "source": [
        "###PRACTICAL QUESTION"
      ],
      "metadata": {
        "id": "K0-4vpEZYVn6"
      }
    },
    {
      "cell_type": "markdown",
      "source": [
        "1.  Create a 3x3 NumPy array with random integers between 1 and 100. Then, interchange its rows and columns."
      ],
      "metadata": {
        "id": "czpwQQ8mYaSj"
      }
    },
    {
      "cell_type": "code",
      "source": [
        "import numpy as np\n",
        "\n",
        "arr1 = np.random.randint(1, 101, size = (3, 3))\n",
        "print(\"Original array:\")\n",
        "print(arr1)\n",
        "print(\"\\n\")\n",
        "arr1.T\n",
        "print(\"Transposed array:\")\n",
        "print(arr1)"
      ],
      "metadata": {
        "colab": {
          "base_uri": "https://localhost:8080/"
        },
        "id": "TRztzMI_YdKV",
        "outputId": "ff7e93ac-02cb-4662-b145-6bb77c799fb3"
      },
      "execution_count": 9,
      "outputs": [
        {
          "output_type": "stream",
          "name": "stdout",
          "text": [
            "Original array:\n",
            "[[ 62  48  10]\n",
            " [ 12  58 100]\n",
            " [ 29  60  47]]\n",
            "\n",
            "\n",
            "Transposed array:\n",
            "[[ 62  48  10]\n",
            " [ 12  58 100]\n",
            " [ 29  60  47]]\n"
          ]
        }
      ]
    },
    {
      "cell_type": "markdown",
      "source": [
        "2.  Generate a 1D NumPy array with 10 elements. Reshape it into a 2x5 array, then into a 5x2 array."
      ],
      "metadata": {
        "id": "Po0V-O7VYo8d"
      }
    },
    {
      "cell_type": "code",
      "source": [
        "res = np.random.random_sample((10, ))\n",
        "print(res)\n",
        "print(\"\\n\")\n",
        "\n",
        "res1 = res.reshape(2, 5)\n",
        "print(res1)\n",
        "print(\"\\n\")\n",
        "\n",
        "res.reshape(2, 5).base\n",
        "res2 = res.reshape(5, 2)\n",
        "print(res2)"
      ],
      "metadata": {
        "colab": {
          "base_uri": "https://localhost:8080/"
        },
        "id": "KJXtzpDIYrfk",
        "outputId": "de3f6171-f5fb-41c0-ba2f-4fb45eb2f833"
      },
      "execution_count": 10,
      "outputs": [
        {
          "output_type": "stream",
          "name": "stdout",
          "text": [
            "[0.71334776 0.24971295 0.83695511 0.69155881 0.6817436  0.67145249\n",
            " 0.71042767 0.79434575 0.84245361 0.30251079]\n",
            "\n",
            "\n",
            "[[0.71334776 0.24971295 0.83695511 0.69155881 0.6817436 ]\n",
            " [0.67145249 0.71042767 0.79434575 0.84245361 0.30251079]]\n",
            "\n",
            "\n",
            "[[0.71334776 0.24971295]\n",
            " [0.83695511 0.69155881]\n",
            " [0.6817436  0.67145249]\n",
            " [0.71042767 0.79434575]\n",
            " [0.84245361 0.30251079]]\n"
          ]
        }
      ]
    },
    {
      "cell_type": "markdown",
      "source": [
        "3. Create a 4x4 NumPy array with random float values. Add a border of zeros around it, resulting in a 6x6 array.\n"
      ],
      "metadata": {
        "id": "nsklQgBQYz0j"
      }
    },
    {
      "cell_type": "code",
      "source": [
        "# Create a 4x4 array with random float values\n",
        "original_array = np.random.rand(4, 4)\n",
        "print(\"Original 4x4 Array:\")\n",
        "print(original_array)\n",
        "\n",
        "# Add a border of zeros around the original array\n",
        "bordered_array = np.pad(original_array, pad_width=1, mode='constant', constant_values=0)\n",
        "\n",
        "print(\"\\n6x6 Array with Border of Zeros:\")\n",
        "print(bordered_array)\n",
        "\n",
        "# Create a 4x4 array with random float values\n",
        "original_array = np.random.rand(4, 4)\n",
        "print(\"Original 4x4 Array:\")\n",
        "print(original_array)\n",
        "\n",
        "# Add a border of zeros around the original array\n",
        "bordered_array = np.pad(original_array, pad_width=1, mode='constant', constant_values=0)\n",
        "\n",
        "print(\"\\n6x6 Array with Border of Zeros:\")\n",
        "print(bordered_array)\n"
      ],
      "metadata": {
        "colab": {
          "base_uri": "https://localhost:8080/"
        },
        "id": "l8fYjH_DY0xk",
        "outputId": "2c31e6f1-0b89-4fbb-f1ff-b94e1f64a9a2"
      },
      "execution_count": 11,
      "outputs": [
        {
          "output_type": "stream",
          "name": "stdout",
          "text": [
            "Original 4x4 Array:\n",
            "[[0.49361143 0.69037487 0.64109415 0.47352434]\n",
            " [0.63181605 0.39155002 0.97756157 0.13425077]\n",
            " [0.55621779 0.21942977 0.24346275 0.0702431 ]\n",
            " [0.61924597 0.10997156 0.7775461  0.82859929]]\n",
            "\n",
            "6x6 Array with Border of Zeros:\n",
            "[[0.         0.         0.         0.         0.         0.        ]\n",
            " [0.         0.49361143 0.69037487 0.64109415 0.47352434 0.        ]\n",
            " [0.         0.63181605 0.39155002 0.97756157 0.13425077 0.        ]\n",
            " [0.         0.55621779 0.21942977 0.24346275 0.0702431  0.        ]\n",
            " [0.         0.61924597 0.10997156 0.7775461  0.82859929 0.        ]\n",
            " [0.         0.         0.         0.         0.         0.        ]]\n",
            "Original 4x4 Array:\n",
            "[[0.40372606 0.51629024 0.36123669 0.20141174]\n",
            " [0.0315667  0.74794035 0.61547296 0.71373597]\n",
            " [0.60008909 0.59203081 0.53743926 0.02305552]\n",
            " [0.80316689 0.56676436 0.60986028 0.65203402]]\n",
            "\n",
            "6x6 Array with Border of Zeros:\n",
            "[[0.         0.         0.         0.         0.         0.        ]\n",
            " [0.         0.40372606 0.51629024 0.36123669 0.20141174 0.        ]\n",
            " [0.         0.0315667  0.74794035 0.61547296 0.71373597 0.        ]\n",
            " [0.         0.60008909 0.59203081 0.53743926 0.02305552 0.        ]\n",
            " [0.         0.80316689 0.56676436 0.60986028 0.65203402 0.        ]\n",
            " [0.         0.         0.         0.         0.         0.        ]]\n"
          ]
        }
      ]
    },
    {
      "cell_type": "markdown",
      "source": [
        "4.  Using NumPy, create an array of integers from 10 to 60 with a step of 5."
      ],
      "metadata": {
        "id": "zj4SEIRtZAad"
      }
    },
    {
      "cell_type": "code",
      "source": [
        "arr = np.arange(10, 60, 5)\n",
        "print(arr)\n"
      ],
      "metadata": {
        "colab": {
          "base_uri": "https://localhost:8080/"
        },
        "id": "fzBQQFPTZB4v",
        "outputId": "595b9fe4-422c-45af-9422-5cf1208415d7"
      },
      "execution_count": 12,
      "outputs": [
        {
          "output_type": "stream",
          "name": "stdout",
          "text": [
            "[10 15 20 25 30 35 40 45 50 55]\n"
          ]
        }
      ]
    },
    {
      "cell_type": "markdown",
      "source": [
        "5.  Create a NumPy array of strings ['python', 'numpy', 'pandas']. Apply different case transformations (uppercase, lowercase, title case, etc.) to each element."
      ],
      "metadata": {
        "id": "wgCc_-GQZIYT"
      }
    },
    {
      "cell_type": "code",
      "source": [
        "# Create a NumPy array of strings\n",
        "words = np.array(['python', 'numpy', 'pandas'])\n",
        "\n",
        "# Apply different case transformations\n",
        "uppercase = np.char.upper(words)\n",
        "lowercase = np.char.lower(words)\n",
        "titlecase = np.char.title(words)\n",
        "capitalize = np.char.capitalize(words)\n",
        "\n",
        "# Display the results\n",
        "print(\"Original Words:\")\n",
        "print(words)\n",
        "\n",
        "print(\"\\nUppercase:\")\n",
        "print(uppercase)\n",
        "\n",
        "print(\"\\nLowercase:\")\n",
        "print(lowercase)\n",
        "\n",
        "print(\"\\nTitle Case:\")\n",
        "print(titlecase)\n",
        "\n",
        "print(\"\\nCapitalized:\")\n",
        "print(capitalize)"
      ],
      "metadata": {
        "colab": {
          "base_uri": "https://localhost:8080/"
        },
        "id": "FShY9LYTZMwt",
        "outputId": "21730237-343f-4933-ede0-3c26902da0a3"
      },
      "execution_count": 13,
      "outputs": [
        {
          "output_type": "stream",
          "name": "stdout",
          "text": [
            "Original Words:\n",
            "['python' 'numpy' 'pandas']\n",
            "\n",
            "Uppercase:\n",
            "['PYTHON' 'NUMPY' 'PANDAS']\n",
            "\n",
            "Lowercase:\n",
            "['python' 'numpy' 'pandas']\n",
            "\n",
            "Title Case:\n",
            "['Python' 'Numpy' 'Pandas']\n",
            "\n",
            "Capitalized:\n",
            "['Python' 'Numpy' 'Pandas']\n"
          ]
        }
      ]
    },
    {
      "cell_type": "markdown",
      "source": [
        "6. Generate a NumPy array of words. Insert a space between each character of every word in the array."
      ],
      "metadata": {
        "id": "p3hhQISWZYPb"
      }
    },
    {
      "cell_type": "code",
      "source": [
        "# Generate a NumPy array of words\n",
        "words = np.array(['hello', 'world', 'numpy', 'array', 'example'])\n",
        "\n",
        "# Insert a space between each character of every word\n",
        "spaced_words = np.array([' '.join(word) for word in words])\n",
        "\n",
        "print(\"Original Words:\")\n",
        "print(words)\n",
        "print(\"\\nWords with Spaces Between Characters:\")\n",
        "print(spaced_words)"
      ],
      "metadata": {
        "colab": {
          "base_uri": "https://localhost:8080/"
        },
        "id": "-_f7d7rTZhC-",
        "outputId": "0ff33bbf-8fad-43d3-9311-3c4205699530"
      },
      "execution_count": 14,
      "outputs": [
        {
          "output_type": "stream",
          "name": "stdout",
          "text": [
            "Original Words:\n",
            "['hello' 'world' 'numpy' 'array' 'example']\n",
            "\n",
            "Words with Spaces Between Characters:\n",
            "['h e l l o' 'w o r l d' 'n u m p y' 'a r r a y' 'e x a m p l e']\n"
          ]
        }
      ]
    },
    {
      "cell_type": "markdown",
      "source": [
        "7. Create two 2D NumPy arrays and perform element-wise addition, subtraction, multiplication, and division."
      ],
      "metadata": {
        "id": "EgPRc6LhZpvp"
      }
    },
    {
      "cell_type": "code",
      "source": [
        "arr1 = np.random.randint(1, 3, (3,3))\n",
        "arr2 = np.random.randint(1, 3, (3,3))\n",
        "print(arr1.ndim)\n",
        "print(arr2.ndim)\n",
        "print(\"\\n\")\n",
        "\n",
        "#add element/index wise\n",
        "print(arr1+arr2)\n",
        "print(\"\\n\")\n",
        "\n",
        "#subtract: index wise\n",
        "print(arr1 - arr2)\n",
        "print(\"\\n\")\n",
        "\n",
        "#multiplication: index wise\n",
        "print(arr1 * arr2)\n",
        "print(\"\\n\")\n",
        "\n",
        "#Division: indexwise\n",
        "print(arr1/arr2)"
      ],
      "metadata": {
        "colab": {
          "base_uri": "https://localhost:8080/"
        },
        "id": "0XcNSl9rZvRf",
        "outputId": "b0761ae4-ddca-42c0-ac54-a202e1ce0321"
      },
      "execution_count": 15,
      "outputs": [
        {
          "output_type": "stream",
          "name": "stdout",
          "text": [
            "2\n",
            "2\n",
            "\n",
            "\n",
            "[[4 3 2]\n",
            " [3 4 4]\n",
            " [3 2 2]]\n",
            "\n",
            "\n",
            "[[0 1 0]\n",
            " [1 0 0]\n",
            " [1 0 0]]\n",
            "\n",
            "\n",
            "[[4 2 1]\n",
            " [2 4 4]\n",
            " [2 1 1]]\n",
            "\n",
            "\n",
            "[[1. 2. 1.]\n",
            " [2. 1. 1.]\n",
            " [2. 1. 1.]]\n"
          ]
        }
      ]
    },
    {
      "cell_type": "markdown",
      "source": [
        "8.  Use NumPy to create a 5x5 identity matrix, then extract its diagonal elements."
      ],
      "metadata": {
        "id": "kXanjPW9Z3Ua"
      }
    },
    {
      "cell_type": "code",
      "source": [
        "# Create a 5x5 identity matrix\n",
        "identity_matrix = np.eye(5)\n",
        "\n",
        "print(\"5x5 Identity Matrix:\")\n",
        "print(identity_matrix)\n",
        "\n",
        "# Extract the diagonal elements\n",
        "diagonal_elements = np.diag(identity_matrix)\n",
        "\n",
        "print(\"\\nDiagonal Elements:\")\n",
        "print(diagonal_elements)\n"
      ],
      "metadata": {
        "colab": {
          "base_uri": "https://localhost:8080/"
        },
        "id": "oYJxUzMHZ_Ra",
        "outputId": "ec5a342b-dfba-4fb4-b49a-107e22890826"
      },
      "execution_count": 16,
      "outputs": [
        {
          "output_type": "stream",
          "name": "stdout",
          "text": [
            "5x5 Identity Matrix:\n",
            "[[1. 0. 0. 0. 0.]\n",
            " [0. 1. 0. 0. 0.]\n",
            " [0. 0. 1. 0. 0.]\n",
            " [0. 0. 0. 1. 0.]\n",
            " [0. 0. 0. 0. 1.]]\n",
            "\n",
            "Diagonal Elements:\n",
            "[1. 1. 1. 1. 1.]\n"
          ]
        }
      ]
    },
    {
      "cell_type": "markdown",
      "source": [
        "9. Generate a NumPy array of 100 random integers between 0 and 1000. Find and display all prime numbers in this array."
      ],
      "metadata": {
        "id": "uOzcv6J8aDJ0"
      }
    },
    {
      "cell_type": "code",
      "source": [
        "random_array = np.random.randint(0, 1001, size=100)\n",
        "print(\"Random Array:\")\n",
        "print(random_array)\n",
        "\n",
        "# Find all prime numbers in the array\n",
        "prime_numbers = []\n",
        "\n",
        "for num in random_array:\n",
        "    if num > 1:  # Check if the number is greater than 1\n",
        "        is_prime = True\n",
        "        for i in range(2, int(num**0.5) + 1):\n",
        "            if num % i == 0:\n",
        "                is_prime = False\n",
        "                break\n",
        "        if is_prime:\n",
        "            prime_numbers.append(num)\n",
        "\n",
        "print(\"\\nPrime Numbers in the Array:\")\n",
        "print(prime_numbers)"
      ],
      "metadata": {
        "colab": {
          "base_uri": "https://localhost:8080/"
        },
        "id": "bUC_8sbbaLx_",
        "outputId": "5f0ef902-8601-4d3a-c333-887e247781fc"
      },
      "execution_count": 17,
      "outputs": [
        {
          "output_type": "stream",
          "name": "stdout",
          "text": [
            "Random Array:\n",
            "[253 710 300 312 941 767 319 598 560 389 948 772 116 829  60 646 537 761\n",
            " 940 765 894 486 578 849 608 793  51 780 676  79 598 455 443 991 429  42\n",
            " 889 225 281 858 325 304  48 175 815 746 595 618 909 859 996 145 723 165\n",
            "  25  26 780 915 162  45 218  45 828 982 810 819 518 244 117 629 276 741\n",
            " 262 253  25 955 714 440 259 122 378 315 860 556 820 940 563 953 922 814\n",
            " 113 145 123 103 510 540 965 119 226 839]\n",
            "\n",
            "Prime Numbers in the Array:\n",
            "[941, 389, 829, 761, 79, 443, 991, 281, 859, 563, 953, 113, 103, 839]\n"
          ]
        }
      ]
    },
    {
      "cell_type": "markdown",
      "source": [
        "10. Create a NumPy array representing daily temperatures for a month. Calculate and display the weekly averages."
      ],
      "metadata": {
        "id": "J4a4MxWyaP5z"
      }
    },
    {
      "cell_type": "code",
      "source": [
        "# Create a NumPy array representing daily temperatures for 30 days\n",
        "# For example, temperatures between 0 and 100 degrees\n",
        "daily_temperatures = np.random.uniform(0, 100, size=30)\n",
        "print(\"Daily Temperatures for the Month:\")\n",
        "print(daily_temperatures)\n",
        "\n",
        "# Reshape the array into weeks (4 weeks of 7 days, plus 2 extra days)\n",
        "# We will ignore the last 2 days for averaging purposes\n",
        "weekly_temperatures = daily_temperatures[:28].reshape(4, 7)\n",
        "\n",
        "# Calculate the weekly averages\n",
        "weekly_averages = np.mean(weekly_temperatures, axis=1)\n",
        "\n",
        "print(\"Weekly Averages:\")\n",
        "print(weekly_averages)"
      ],
      "metadata": {
        "colab": {
          "base_uri": "https://localhost:8080/"
        },
        "id": "o8jLG8QBaYOI",
        "outputId": "9eec0e3f-279a-4627-822e-134a69e9b519"
      },
      "execution_count": 18,
      "outputs": [
        {
          "output_type": "stream",
          "name": "stdout",
          "text": [
            "Daily Temperatures for the Month:\n",
            "[73.67803802 57.3596509  55.48902464 78.26391545 66.51528844 36.65449463\n",
            "  5.14629574 31.36220118 55.40605138 42.90111415 48.25733479 15.65642156\n",
            " 24.43669816 37.76970401 35.20126867 49.4757439  44.14744993 58.15638944\n",
            " 37.99922479  4.46972755 70.47208901 15.79702475 48.74989241 14.35478698\n",
            " 62.28922476 67.12259443 54.86760501 84.33156586 76.4850517  43.15866922]\n",
            "Weekly Averages:\n",
            "[53.30095826 36.54136075 42.84598476 49.6446706 ]\n"
          ]
        }
      ]
    }
  ]
}