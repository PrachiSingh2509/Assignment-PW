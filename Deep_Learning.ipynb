{
  "nbformat": 4,
  "nbformat_minor": 0,
  "metadata": {
    "colab": {
      "provenance": []
    },
    "kernelspec": {
      "name": "python3",
      "display_name": "Python 3"
    },
    "language_info": {
      "name": "python"
    }
  },
  "cells": [
    {
      "cell_type": "markdown",
      "source": [
        "#Deep Learning Framework\n",
        "1. What is TensorFlow 2.0, and how is it different from TensorFlow 1.x2\n",
        "2. How do you install TensorFlow 2.02\n",
        "3. What is the primary function of the tf.function in TensorFlow 2.02\n",
        "4. What is the purpose of the Model class in TensorFlow 2.02\n",
        "5. How do you create a neural network using TensorFlow 2.02\n",
        "6. What is the importance of Tensor Space in TensorFlow2\n",
        "7. How can TensorBoard be integrated with TensorFlow 2.02\n",
        "8. What is the purpose of TensorFlow Playground2\n",
        "9. What is Netron, and how is it useful for deep learning models2\n",
        "10. What is the difference between TensorFlow and PyTorch2\n",
        "11. How do you install PyTorch2\n",
        "12. What is the basic structure of a PyTorch neural network2\n",
        "=13. What is the significance of tensors in PyTorch2\n",
        "14. What is the difference between torch.Tensor and torch.cuda.Tensor in PyTorch2\n",
        "15. What is the purpose of the torch.optim module in PyTorch2\n",
        "16. What are some common activation functions used in neural networks2\n",
        "17. What is the difference between torch.nn.Module and torch.nn.Sequential in PyTorch2\n",
        "18. How can you monitor training progress in TensorFlow 2.02\n",
        "19. How does the Keras API fit into TensorFlow 2.02\n",
        "20. What is an example of a deep learning project that can be implemented using TensorFlow 2.02\n",
        "21. What is the main advantage of using pre-trained models in TensorFlow and PyTorch?"
      ],
      "metadata": {
        "id": "x6ZKoHD2O9cC"
      }
    },
    {
      "cell_type": "markdown",
      "source": [
        "#1.\n",
        "TensorFlow 2.0 is a major upgrade with eager execution by default, integrated Keras API, and simplified syntax compared to the more complex and static graph-based TensorFlow 1.x."
      ],
      "metadata": {
        "id": "06KZ-hQnPHPX"
      }
    },
    {
      "cell_type": "code",
      "source": [
        "#2.\n",
        "pip install tensorflow\n"
      ],
      "metadata": {
        "id": "7ZHr63IZPCqo"
      },
      "execution_count": null,
      "outputs": []
    },
    {
      "cell_type": "markdown",
      "source": [
        "3. It converts a Python function into a TensorFlow graph for improved performance and faster execution.\n",
        "\n",
        "4. Purpose of the Model class in TensorFlow 2.0?\n",
        "It defines and manages custom deep learning models, including training, evaluation, and prediction."
      ],
      "metadata": {
        "id": "YC7It5LnPRdL"
      }
    },
    {
      "cell_type": "code",
      "source": [
        "#5.\n",
        "from tensorflow.keras import Sequential\n",
        "from tensorflow.keras.layers import Dense\n",
        "\n",
        "model = Sequential([\n",
        "    Dense(64, activation='relu'),\n",
        "    Dense(1)\n",
        "])\n"
      ],
      "metadata": {
        "id": "ENJg95V0PM-b"
      },
      "execution_count": null,
      "outputs": []
    },
    {
      "cell_type": "markdown",
      "source": [
        "6. Tensors are multi-dimensional arrays that represent all data in TensorFlow; the tensor space defines the shape, type, and structure of these data elements."
      ],
      "metadata": {
        "id": "wr7JWy3WPZVv"
      }
    },
    {
      "cell_type": "code",
      "source": [
        "#7.\n",
        "tensorboard --logdir=logs/\n"
      ],
      "metadata": {
        "id": "q7X56zMkPamM"
      },
      "execution_count": null,
      "outputs": []
    },
    {
      "cell_type": "markdown",
      "source": [
        "8. It's a visual tool to experiment with neural networks and see how parameters affect performance (great for beginners).\n",
        "\n",
        "9. What is Netron?\n",
        "Netron is a model viewer for deep learning models (TensorFlow, PyTorch, ONNX, etc.) to visualize network architecture.\n",
        "\n",
        "10. Difference between TensorFlow and PyTorch?\n",
        "TensorFlow: More production-ready, static graph (by default).\n",
        "\n",
        "PyTorch: More intuitive for research, dynamic computation graph."
      ],
      "metadata": {
        "id": "iaEYyDfpPzcG"
      }
    },
    {
      "cell_type": "code",
      "source": [
        "#11.\n",
        "pip install torch torchvision\n"
      ],
      "metadata": {
        "id": "PvkovR8kP4mf"
      },
      "execution_count": null,
      "outputs": []
    },
    {
      "cell_type": "code",
      "source": [
        "#12.\n",
        "import torch.nn as nn\n",
        "\n",
        "class Net(nn.Module):\n",
        "    def __init__(self):\n",
        "        super().__init__()\n",
        "        self.fc = nn.Linear(10, 1)\n",
        "\n",
        "    def forward(self, x):\n",
        "        return self.fc(x)\n"
      ],
      "metadata": {
        "id": "x_o_yCsRP6-n"
      },
      "execution_count": null,
      "outputs": []
    },
    {
      "cell_type": "markdown",
      "source": [
        "13. Significance of tensors in PyTorch?\n",
        "Tensors are the core data structure, representing inputs, outputs, and parameters in models.\n",
        "\n",
        "14. torch.Tensor vs torch.cuda.Tensor?\n",
        "torch.Tensor: Stored on CPU\n",
        "\n",
        "torch.cuda.Tensor: Stored on GPU, used for faster computation\n",
        "15. Purpose of torch.optim module?\n",
        "Provides optimizers like SGD, Adam for training models by updating weights.\n",
        "\n",
        "16. Common activation functions in neural networks?\n",
        "ReLU\n",
        "\n",
        "Sigmoid\n",
        "\n",
        "Tanh\n",
        "\n",
        "Softmax\n",
        "LeakyReLU\n",
        "\n",
        "17. torch.nn.Module vs torch.nn.Sequential?\n",
        "Module: Flexible for custom models\n",
        "\n",
        "Sequential: For linear stacking of layers\n",
        "\n",
        "18. How to monitor training in TensorFlow 2.0?\n",
        "Using TensorBoard, callbacks like tf.keras.callbacks.TensorBoard, and metrics logging\n",
        "19. Keras API in TensorFlow 2.0?\n",
        "Keras is integrated into TensorFlow 2.0 as the default high-level API for building and training models.\n",
        "\n",
        "20. Example deep learning project using TensorFlow 2.0?\n",
        "Image classification with CNNs using MNIST/CIFAR datasets\n",
        "\n",
        "Text sentiment analysis using LSTMs\n",
        "\n",
        "Time series prediction\n",
        "21. Advantage of using pre-trained models?\n",
        "Saves time and resources\n",
        "\n",
        "Improves accuracy with transfer learning\n",
        "\n",
        "Useful when data is limited"
      ],
      "metadata": {
        "id": "yoNUpY7oP_Ih"
      }
    },
    {
      "cell_type": "markdown",
      "source": [
        "#Practical\n",
        "1. How do you install and verify that TensorFlow 2.0 was installed successfully2\n",
        "2. How can you define a simple function in TensorFlow 2.0 to perform addition2\n",
        "3. How can you create a simple neural network in TensorFlow 2.0 with one hidden layer2\n",
        "4. How can you visualize the training progress using TensorFlow and Matplotlib2\n",
        "5. How do you install PyTorch and verify the PyTorch installation2\n",
        "6. How do you create a simple neural network in PyTorch2\n",
        "7. How do you define a loss function and optimizer in PyTorch2\n",
        "8. How do you implement a custom loss function in PyTorch2\n",
        "9. How do you save and load a TensorFlow model?"
      ],
      "metadata": {
        "id": "-s9vOGqqQkby"
      }
    },
    {
      "cell_type": "code",
      "source": [
        "#1.\n",
        "pip install tensorflow\n",
        "\n",
        "#Verify\n",
        "import tensorflow as tf\n",
        "print(tf.__version__)  # Should be 2.x\n",
        "\n"
      ],
      "metadata": {
        "id": "x7gpcXftQpLu"
      },
      "execution_count": null,
      "outputs": []
    },
    {
      "cell_type": "code",
      "source": [
        "#2.\n",
        "@tf.function\n",
        "def add(a, b):\n",
        "    return a + b\n",
        "\n"
      ],
      "metadata": {
        "id": "C1sALgnpQ0sh"
      },
      "execution_count": null,
      "outputs": []
    },
    {
      "cell_type": "code",
      "source": [
        "#3.\n",
        "from tensorflow.keras.models import Sequential\n",
        "from tensorflow.keras.layers import Dense\n",
        "\n",
        "model = Sequential([\n",
        "    Dense(16, activation='relu', input_shape=(10,)),\n",
        "    Dense(1, activation='sigmoid')\n",
        "])\n"
      ],
      "metadata": {
        "id": "x7QHb6rXRCQv"
      },
      "execution_count": null,
      "outputs": []
    },
    {
      "cell_type": "code",
      "source": [
        "#4.\n",
        "import matplotlib.pyplot as plt\n",
        "\n",
        "history = model.fit(X_train, y_train, epochs=10)\n",
        "plt.plot(history.history['loss'])\n",
        "plt.title('Training Loss')\n",
        "plt.xlabel('Epoch')\n",
        "plt.ylabel('Loss')\n",
        "plt.show()\n"
      ],
      "metadata": {
        "id": "0esE8Kw4RE3c"
      },
      "execution_count": null,
      "outputs": []
    },
    {
      "cell_type": "code",
      "source": [
        "#5.\n",
        "pip install torch torchvision\n",
        "\n",
        "#Verify\n",
        "import torch\n",
        "print(torch.__version__)\n",
        "print(torch.cuda.is_available())  # Check for GPU\n"
      ],
      "metadata": {
        "id": "mIiS9vKGRJ0W"
      },
      "execution_count": null,
      "outputs": []
    },
    {
      "cell_type": "code",
      "source": [
        "#6.\n",
        "import torch.nn as nn\n",
        "\n",
        "class Net(nn.Module):\n",
        "    def __init__(self):\n",
        "        super().__init__()\n",
        "        self.fc1 = nn.Linear(10, 16)\n",
        "        self.out = nn.Linear(16, 1)\n",
        "\n",
        "    def forward(self, x):\n",
        "        x = torch.relu(self.fc1(x))\n",
        "        return torch.sigmoid(self.out(x))\n"
      ],
      "metadata": {
        "id": "fNFiqxYqRPYA"
      },
      "execution_count": null,
      "outputs": []
    },
    {
      "cell_type": "code",
      "source": [
        "#7.\n",
        "import torch.optim as optim\n",
        "\n",
        "loss_fn = nn.BCELoss()\n",
        "optimizer = optim.Adam(model.parameters(), lr=0.001)\n"
      ],
      "metadata": {
        "id": "BMujxsumRUJk"
      },
      "execution_count": null,
      "outputs": []
    },
    {
      "cell_type": "code",
      "source": [
        "#8.\n",
        "def custom_loss(output, target):\n",
        "    return torch.mean((output - target)**2)\n"
      ],
      "metadata": {
        "id": "SqlGgnirRW8b"
      },
      "execution_count": null,
      "outputs": []
    },
    {
      "cell_type": "code",
      "source": [
        "#9.\n",
        "#Save\n",
        "model.save('my_model.h5')\n",
        "\n",
        "#Load\n",
        "from tensorflow.keras.models import load_model\n",
        "model = load_model('my_model.h5')\n"
      ],
      "metadata": {
        "id": "ITaKiCdZRadi"
      },
      "execution_count": null,
      "outputs": []
    }
  ]
}