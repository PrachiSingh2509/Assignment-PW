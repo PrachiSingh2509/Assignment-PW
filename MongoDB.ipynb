{
  "nbformat": 4,
  "nbformat_minor": 0,
  "metadata": {
    "colab": {
      "provenance": []
    },
    "kernelspec": {
      "name": "python3",
      "display_name": "Python 3"
    },
    "language_info": {
      "name": "python"
    }
  },
  "cells": [
    {
      "cell_type": "markdown",
      "source": [
        "1. Key differences between SQL and NoSQL databases\n",
        "SQL: Structured, uses tables, fixed schema, supports JOINs.\n",
        "\n",
        "NoSQL (like MongoDB): Flexible schema, stores data in JSON-like documents, better for hierarchical data and horizontal scaling.\n",
        "\n",
        "2. Why is MongoDB good for modern applications?\n",
        "Schema flexibility, horizontal scalability, fast development cycles, JSON-like documents align well with modern app data models.\n",
        "\n",
        "3. What is a collection in MongoDB?\n",
        "A collection is a group of MongoDB documents, similar to a table in SQL.\n",
        "\n",
        "4. How does MongoDB ensure high availability using replication?\n",
        "Through replica sets: multiple copies of data across nodes (1 primary, multiple secondaries) for automatic failover and redundancy.\n",
        "\n",
        "5. Benefits of MongoDB Atlas\n",
        "Fully managed cloud database\n",
        "\n",
        "Automated backups, scaling, monitoring\n",
        "\n",
        "High availability and built-in security\n",
        "\n",
        "6. Role of indexes in MongoDB\n",
        "Indexes speed up query performance by allowing faster access to documents. Without indexes, MongoDB performs a full collection scan.\n",
        "\n",
        "7. Stages of the MongoDB aggregation pipeline\n",
        "Common stages:\n",
        "\n",
        "$match (filter)\n",
        "\n",
        "$group (aggregate)\n",
        "\n",
        "$sort (order)\n",
        "\n",
        "$project (reshape)\n",
        "\n",
        "$lookup (join)\n",
        "\n",
        "$limit, $skip\n",
        "\n",
        "8. What is sharding? Difference from replication\n",
        "Sharding: Distributes data across multiple servers for scalability\n",
        "\n",
        "Replication: Copies data for high availability\n",
        "\n",
        "9. What is PyMongo and why is it used?\n",
        "PyMongo is the Python driver for MongoDB, used to interact with MongoDB from Python applications.\n",
        "\n",
        "10. ACID properties in MongoDB\n",
        "Atomicity, Consistency, Isolation, Durability — supported in multi-document transactions (since v4.0) for strong consistency.\n",
        "\n",
        "11. Purpose of explain() in MongoDB\n",
        "Shows query execution plan, helping optimize queries by understanding how MongoDB processes them.\n",
        "\n",
        "12. How does MongoDB handle schema validation?\n",
        "Via JSON Schema rules defined per collection using validator during collection creation or update.\n",
        "\n",
        "13. Primary vs Secondary node in a replica set\n",
        "Primary: Handles all write operations\n",
        "\n",
        "Secondary: Replicates data from primary; used for reads (if enabled)\n",
        "\n",
        "14. MongoDB security mechanisms\n",
        "Authentication\n",
        "\n",
        "Role-based access control\n",
        "\n",
        "Encryption (in-transit and at-rest)\n",
        "\n",
        "IP whitelisting and auditing\n",
        "\n",
        "15. What are embedded documents and when to use them?\n",
        "Documents within documents — useful when data is tightly related and often queried together (e.g., user with address info).\n",
        "\n",
        "16. Purpose of $lookup in aggregation\n",
        "Performs joins between documents in different collections (similar to SQL joins).\n",
        "\n",
        "17. Common use cases for MongoDB\n",
        "Content management\n",
        "\n",
        "Real-time analytics\n",
        "\n",
        "Catalogs and inventories\n",
        "\n",
        "IoT applications\n",
        "\n",
        "Mobile apps\n",
        "\n",
        "18. Advantages of MongoDB for horizontal scaling\n",
        "Sharding allows automatic distribution of data\n",
        "\n",
        "Handles large volumes\n",
        "\n",
        "Easily adds more nodes for performance and capacity\n",
        "\n",
        "19. MongoDB vs SQL transactions\n",
        "MongoDB supports multi-document transactions but is optimized for single-document atomicity\n",
        "\n",
        "SQL has full ACID compliance by default\n",
        "\n",
        "20. Capped vs Regular collections\n",
        "Capped: Fixed size, FIFO insertion order, auto-removal of oldest data\n",
        "\n",
        "Regular: Unlimited size, no automatic removal\n",
        "\n",
        "21. Purpose of $match in aggregation\n",
        "Filters documents at the beginning of the pipeline — improves performance by reducing data early.\n",
        "\n",
        "22. How to secure access to MongoDB\n",
        "Enable authentication\n",
        "\n",
        "Use strong passwords\n",
        "\n",
        "Limit network exposure\n",
        "\n",
        "Use TLS/SSL\n",
        "\n",
        "Role-based access control\n",
        "\n",
        "23. What is the WiredTiger storage engine?\n",
        "Default storage engine in MongoDB, offering high concurrency, compression, and better performance for most workloads."
      ],
      "metadata": {
        "id": "92biZAw6gEmf"
      }
    },
    {
      "cell_type": "markdown",
      "source": [],
      "metadata": {
        "id": "O90kbyMFgIkq"
      }
    },
    {
      "cell_type": "markdown",
      "source": [
        "#Practical\n",
        "Dataset - https://drive.google.com/file/d/1bJ-X2ONfnE5YbsNe2bCK39IfoBHexYQO/view\n",
        "1. Write a Python script to load the Superstore dataset from a CSV file into MongoDB<\n",
        "2. Retrieve and print all documents from the Orders collection<\n",
        "3. Count and display the total number of documents in the Orders collection<\n",
        "4. Write a query to fetch all orders from the \"West\" region<\n",
        "5. Write a query to find orders where Sales is greater than 500<\n",
        "6. Fetch the top 3 orders with the highest Profit<\n",
        "7. Update all orders with Ship Mode as \"First Class\" to \"Premium Class.O\n",
        "8. Delete all orders where Sales is less than 50<\n",
        "9. Use aggregation to group orders by Region and calculate total sales per region<\n",
        "10. Fetch all distinct values for Ship Mode from the collection<\n",
        "11. Count the number of orders for each category."
      ],
      "metadata": {
        "id": "vRP0Zoyyhdqj"
      }
    },
    {
      "cell_type": "code",
      "source": [
        "pip install pymongo pandas\n"
      ],
      "metadata": {
        "id": "HXMiAA6qhirp"
      },
      "execution_count": null,
      "outputs": []
    },
    {
      "cell_type": "code",
      "source": [
        "#1.\n",
        "import pandas as pd\n",
        "from pymongo import MongoClient\n",
        "\n",
        "# Connect to MongoDB\n",
        "client = MongoClient(\"mongodb://localhost:27017/\")\n",
        "db = client[\"SuperstoreDB\"]\n",
        "orders_collection = db[\"Orders\"]\n",
        "\n",
        "# Load dataset\n",
        "df = pd.read_csv(\"Superstore.csv\")\n",
        "data = df.to_dict(orient=\"records\")\n",
        "\n",
        "# Insert into MongoDB\n",
        "orders_collection.insert_many(data)\n"
      ],
      "metadata": {
        "id": "UmT07j9zhmWX"
      },
      "execution_count": null,
      "outputs": []
    },
    {
      "cell_type": "code",
      "source": [
        "#2.\n",
        "for doc in orders_collection.find():\n",
        "    print(doc)\n"
      ],
      "metadata": {
        "id": "tX7rhAbbhqdT"
      },
      "execution_count": null,
      "outputs": []
    },
    {
      "cell_type": "code",
      "source": [
        "#3.\n",
        "count = orders_collection.count_documents({})\n",
        "print(\"Total Documents:\", count)\n"
      ],
      "metadata": {
        "id": "k5KNZsjQh56o"
      },
      "execution_count": null,
      "outputs": []
    },
    {
      "cell_type": "code",
      "source": [
        "#4.\n",
        "west_orders = orders_collection.find({\"Region\": \"West\"})\n",
        "for order in west_orders:\n",
        "    print(order)\n"
      ],
      "metadata": {
        "id": "VfLcXh3rh9OT"
      },
      "execution_count": null,
      "outputs": []
    },
    {
      "cell_type": "code",
      "source": [
        "#5.\n",
        "high_sales = orders_collection.find({\"Sales\": {\"$gt\": 500}})\n",
        "for order in high_sales:\n",
        "    print(order)\n"
      ],
      "metadata": {
        "id": "n3_mgMfwiBKy"
      },
      "execution_count": null,
      "outputs": []
    },
    {
      "cell_type": "code",
      "source": [
        "#6.\n",
        "top_profit = orders_collection.find().sort(\"Profit\", -1).limit(3)\n",
        "for order in top_profit:\n",
        "    print(order)\n"
      ],
      "metadata": {
        "id": "DrKv1bLuiEPi"
      },
      "execution_count": null,
      "outputs": []
    },
    {
      "cell_type": "code",
      "source": [
        "#7.\n",
        "orders_collection.update_many(\n",
        "    {\"Ship Mode\": \"First Class\"},\n",
        "    {\"$set\": {\"Ship Mode\": \"Premium Class\"}}\n",
        ")\n"
      ],
      "metadata": {
        "id": "hjFeT8NuiG2f"
      },
      "execution_count": null,
      "outputs": []
    },
    {
      "cell_type": "code",
      "source": [
        "#8.\n",
        "orders_collection.delete_many({\"Sales\": {\"$lt\": 50}})\n"
      ],
      "metadata": {
        "id": "2IN8uMvxiJkf"
      },
      "execution_count": null,
      "outputs": []
    },
    {
      "cell_type": "code",
      "source": [
        "#9.\n",
        "pipeline = [\n",
        "    {\"$group\": {\"_id\": \"$Region\", \"TotalSales\": {\"$sum\": \"$Sales\"}}}\n",
        "]\n",
        "for region in orders_collection.aggregate(pipeline):\n",
        "    print(region)\n"
      ],
      "metadata": {
        "id": "goiuhOV_iMPc"
      },
      "execution_count": null,
      "outputs": []
    },
    {
      "cell_type": "code",
      "source": [
        "#10.\n",
        "ship_modes = orders_collection.distinct(\"Ship Mode\")\n",
        "print(\"Distinct Ship Modes:\", ship_modes)\n"
      ],
      "metadata": {
        "id": "T8Q3r0soiPMA"
      },
      "execution_count": null,
      "outputs": []
    },
    {
      "cell_type": "code",
      "source": [
        "#11.\n",
        "pipeline = [\n",
        "    {\"$group\": {\"_id\": \"$Category\", \"OrderCount\": {\"$sum\": 1}}}\n",
        "]\n",
        "for category in orders_collection.aggregate(pipeline):\n",
        "    print(category)\n"
      ],
      "metadata": {
        "id": "jt7r-iL4idJ6"
      },
      "execution_count": null,
      "outputs": []
    }
  ]
}