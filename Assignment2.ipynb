{
  "nbformat": 4,
  "nbformat_minor": 0,
  "metadata": {
    "colab": {
      "provenance": []
    },
    "kernelspec": {
      "name": "python3",
      "display_name": "Python 3"
    },
    "language_info": {
      "name": "python"
    }
  },
  "cells": [
    {
      "cell_type": "markdown",
      "source": [
        "#Discuss String slicing and provide examples\n",
        "Ans.\n",
        "Extracting sub part of string is slicing."
      ],
      "metadata": {
        "id": "9ydXkFwcslDn"
      }
    },
    {
      "cell_type": "code",
      "source": [
        "a = \"Ajay\" #indexing you know , now we will slice it.\n",
        "a[0]"
      ],
      "metadata": {
        "colab": {
          "base_uri": "https://localhost:8080/",
          "height": 35
        },
        "id": "jEPoJvQLvATq",
        "outputId": "3c222ab6-8287-4fc5-f53f-f96109cca71c"
      },
      "execution_count": 4,
      "outputs": [
        {
          "output_type": "execute_result",
          "data": {
            "text/plain": [
              "'A'"
            ],
            "application/vnd.google.colaboratory.intrinsic+json": {
              "type": "string"
            }
          },
          "metadata": {},
          "execution_count": 4
        }
      ]
    },
    {
      "cell_type": "code",
      "source": [
        "a[-1]\n"
      ],
      "metadata": {
        "colab": {
          "base_uri": "https://localhost:8080/",
          "height": 35
        },
        "id": "Qsl-TmutvkxJ",
        "outputId": "e29038ca-fc9e-4e77-db2d-8a5cb2598fea"
      },
      "execution_count": 6,
      "outputs": [
        {
          "output_type": "execute_result",
          "data": {
            "text/plain": [
              "'y'"
            ],
            "application/vnd.google.colaboratory.intrinsic+json": {
              "type": "string"
            }
          },
          "metadata": {},
          "execution_count": 6
        }
      ]
    },
    {
      "cell_type": "code",
      "source": [
        "a[4] #Throw an error that 4th index doesn't exist."
      ],
      "metadata": {
        "colab": {
          "base_uri": "https://localhost:8080/",
          "height": 141
        },
        "id": "tFYAY4YJvnaE",
        "outputId": "0ba01edb-0673-4eb5-db5d-c3185fd39dbc"
      },
      "execution_count": 5,
      "outputs": [
        {
          "output_type": "error",
          "ename": "IndexError",
          "evalue": "string index out of range",
          "traceback": [
            "\u001b[0;31m---------------------------------------------------------------------------\u001b[0m",
            "\u001b[0;31mIndexError\u001b[0m                                Traceback (most recent call last)",
            "\u001b[0;32m<ipython-input-5-a8c21e8e117e>\u001b[0m in \u001b[0;36m<cell line: 1>\u001b[0;34m()\u001b[0m\n\u001b[0;32m----> 1\u001b[0;31m \u001b[0ma\u001b[0m\u001b[0;34m[\u001b[0m\u001b[0;36m4\u001b[0m\u001b[0;34m]\u001b[0m \u001b[0;31m#Throw an error that 4th index doesn't exist.\u001b[0m\u001b[0;34m\u001b[0m\u001b[0;34m\u001b[0m\u001b[0m\n\u001b[0m",
            "\u001b[0;31mIndexError\u001b[0m: string index out of range"
          ]
        }
      ]
    },
    {
      "cell_type": "code",
      "source": [
        "string1 = \"I am a good student\" #Here index, I=0, space = 1, a=2, m=3,etc\n",
        "string1[0:3]\t #Here 3 is exclusive, [a,b] >>It will give result till b-1 index."
      ],
      "metadata": {
        "colab": {
          "base_uri": "https://localhost:8080/",
          "height": 35
        },
        "id": "SlKv6vQ2vv5q",
        "outputId": "9508b99c-4c22-499e-8a61-c6c0daf9b348"
      },
      "execution_count": 7,
      "outputs": [
        {
          "output_type": "execute_result",
          "data": {
            "text/plain": [
              "'I a'"
            ],
            "application/vnd.google.colaboratory.intrinsic+json": {
              "type": "string"
            }
          },
          "metadata": {},
          "execution_count": 7
        }
      ]
    },
    {
      "cell_type": "code",
      "source": [
        "string1[0:] #start index : end_index-->If you not provide end index, it will be default give substring till the last index."
      ],
      "metadata": {
        "colab": {
          "base_uri": "https://localhost:8080/",
          "height": 35
        },
        "id": "s2Sdw262v7Ti",
        "outputId": "a5a2df2a-983b-4de5-bb18-697b5e1a8149"
      },
      "execution_count": 8,
      "outputs": [
        {
          "output_type": "execute_result",
          "data": {
            "text/plain": [
              "'I am a good student'"
            ],
            "application/vnd.google.colaboratory.intrinsic+json": {
              "type": "string"
            }
          },
          "metadata": {},
          "execution_count": 8
        }
      ]
    },
    {
      "cell_type": "code",
      "source": [
        "string1[3:]"
      ],
      "metadata": {
        "colab": {
          "base_uri": "https://localhost:8080/",
          "height": 35
        },
        "id": "C-pX6E3ewAqn",
        "outputId": "047900aa-f1d0-479d-e1bf-21a87a854a6a"
      },
      "execution_count": 9,
      "outputs": [
        {
          "output_type": "execute_result",
          "data": {
            "text/plain": [
              "'m a good student'"
            ],
            "application/vnd.google.colaboratory.intrinsic+json": {
              "type": "string"
            }
          },
          "metadata": {},
          "execution_count": 9
        }
      ]
    },
    {
      "cell_type": "code",
      "source": [
        "string1[:-3]\n",
        "#By default it has step value of 1.\n",
        "#It is similar to range function\n",
        "#We can have step"
      ],
      "metadata": {
        "colab": {
          "base_uri": "https://localhost:8080/",
          "height": 35
        },
        "id": "JuIK1jSzwGE-",
        "outputId": "d5447fc5-9e83-4b3f-cfa0-332591100fa4"
      },
      "execution_count": 11,
      "outputs": [
        {
          "output_type": "execute_result",
          "data": {
            "text/plain": [
              "'I am a good stud'"
            ],
            "application/vnd.google.colaboratory.intrinsic+json": {
              "type": "string"
            }
          },
          "metadata": {},
          "execution_count": 11
        }
      ]
    },
    {
      "cell_type": "code",
      "source": [
        "string1[0:5:2] #here 2 is the step to be skipped."
      ],
      "metadata": {
        "colab": {
          "base_uri": "https://localhost:8080/",
          "height": 35
        },
        "id": "Nv3709dVwJYs",
        "outputId": "3c049eb9-bcc1-4c14-a0ec-ef79826d03b0"
      },
      "execution_count": 12,
      "outputs": [
        {
          "output_type": "execute_result",
          "data": {
            "text/plain": [
              "'Ia '"
            ],
            "application/vnd.google.colaboratory.intrinsic+json": {
              "type": "string"
            }
          },
          "metadata": {},
          "execution_count": 12
        }
      ]
    },
    {
      "cell_type": "code",
      "source": [
        "string1[::2]\n",
        "#steping is from left to right"
      ],
      "metadata": {
        "colab": {
          "base_uri": "https://localhost:8080/",
          "height": 35
        },
        "id": "P1q1w1yRwTtr",
        "outputId": "8c9c2866-419e-45c0-e0ec-f7be31a000dd"
      },
      "execution_count": 13,
      "outputs": [
        {
          "output_type": "execute_result",
          "data": {
            "text/plain": [
              "'Ia  odsuet'"
            ],
            "application/vnd.google.colaboratory.intrinsic+json": {
              "type": "string"
            }
          },
          "metadata": {},
          "execution_count": 13
        }
      ]
    },
    {
      "cell_type": "code",
      "source": [
        "string1[::-1]#Here string is reversed. Iterate over the sequence in reverse order.\n",
        "#It means start from the end, move to the beginning and step backward by one character."
      ],
      "metadata": {
        "colab": {
          "base_uri": "https://localhost:8080/",
          "height": 35
        },
        "id": "wunc-cjZwa0N",
        "outputId": "c9a46745-d154-4cac-d828-11f30ba86de7"
      },
      "execution_count": 14,
      "outputs": [
        {
          "output_type": "execute_result",
          "data": {
            "text/plain": [
              "'tneduts doog a ma I'"
            ],
            "application/vnd.google.colaboratory.intrinsic+json": {
              "type": "string"
            }
          },
          "metadata": {},
          "execution_count": 14
        }
      ]
    },
    {
      "cell_type": "markdown",
      "source": [
        "#Explain the key features of list in python.\n",
        "Ans.\n",
        "We can store anything in list. Stores heterogeneous data.\n",
        "It is ordered collection of elements that can be of any type.\n",
        "It is mutable\n",
        "Representation in: [  ]\n",
        "\n",
        "The main characteristics of Python lists are that they are iterable, ordered, indexed, mutable, and allow duplicated values."
      ],
      "metadata": {
        "id": "9-v7T4KdwgGF"
      }
    },
    {
      "cell_type": "code",
      "source": [
        "num = [ 1, 2, 3, 4, 5]\n",
        "num\n",
        "#We already know access can be done using negative as well as positive index.\n",
        "#If you are accessing an index which is not present then it will give error as list index out of range.\n"
      ],
      "metadata": {
        "colab": {
          "base_uri": "https://localhost:8080/"
        },
        "id": "QCZMigkHxirb",
        "outputId": "ac7a7a70-b4c6-4054-fa46-761c38a6ae98"
      },
      "execution_count": 16,
      "outputs": [
        {
          "output_type": "execute_result",
          "data": {
            "text/plain": [
              "[1, 2, 3, 4, 5]"
            ]
          },
          "metadata": {},
          "execution_count": 16
        }
      ]
    },
    {
      "cell_type": "code",
      "source": [
        "type(num)"
      ],
      "metadata": {
        "colab": {
          "base_uri": "https://localhost:8080/"
        },
        "id": "nMspIQ_yxuWt",
        "outputId": "1b2cd74a-154b-4a1b-dcad-7df0734676e8"
      },
      "execution_count": 17,
      "outputs": [
        {
          "output_type": "execute_result",
          "data": {
            "text/plain": [
              "list"
            ]
          },
          "metadata": {},
          "execution_count": 17
        }
      ]
    },
    {
      "cell_type": "code",
      "source": [
        "a = [1, \"a\",True, 9.7]\n",
        "\n",
        "#Adding element to the list:\n",
        "a.append(\"orange\")"
      ],
      "metadata": {
        "id": "T0-cczeXxxXF"
      },
      "execution_count": 31,
      "outputs": []
    },
    {
      "cell_type": "code",
      "source": [
        "#Remove:\n",
        "a.remove(\"a\")\n",
        "a"
      ],
      "metadata": {
        "colab": {
          "base_uri": "https://localhost:8080/"
        },
        "id": "YtixyqTKzW9U",
        "outputId": "0c2baf62-c8bc-4566-e720-d98833131d46"
      },
      "execution_count": 32,
      "outputs": [
        {
          "output_type": "execute_result",
          "data": {
            "text/plain": [
              "[1, True, 9.7, 'orange']"
            ]
          },
          "metadata": {},
          "execution_count": 32
        }
      ]
    },
    {
      "cell_type": "code",
      "source": [
        "#We can also have list inside list\n",
        "#accessing element of list inside list:\n",
        "lis = [[1,2,3], [4,5,6], [7,8,9]]\n",
        "type(lis)"
      ],
      "metadata": {
        "colab": {
          "base_uri": "https://localhost:8080/"
        },
        "id": "euAeAgLbz1SU",
        "outputId": "3922bf90-b3fc-40dd-87b7-5c6d60371347"
      },
      "execution_count": 34,
      "outputs": [
        {
          "output_type": "execute_result",
          "data": {
            "text/plain": [
              "list"
            ]
          },
          "metadata": {},
          "execution_count": 34
        }
      ]
    },
    {
      "cell_type": "code",
      "source": [
        "lis[0][1]"
      ],
      "metadata": {
        "colab": {
          "base_uri": "https://localhost:8080/"
        },
        "id": "LNZeaM5q0KiJ",
        "outputId": "2f1cfc03-3223-4c60-e4a7-caa635952a7d"
      },
      "execution_count": 35,
      "outputs": [
        {
          "output_type": "execute_result",
          "data": {
            "text/plain": [
              "2"
            ]
          },
          "metadata": {},
          "execution_count": 35
        }
      ]
    },
    {
      "cell_type": "code",
      "source": [
        "#Iteration in list:\n",
        "for i in a:\n",
        "  print(i, end =\" \")"
      ],
      "metadata": {
        "colab": {
          "base_uri": "https://localhost:8080/"
        },
        "id": "EP_hTl540N4C",
        "outputId": "8118b7b1-d41d-4ec1-f0f6-c6c6223bd54d"
      },
      "execution_count": 36,
      "outputs": [
        {
          "output_type": "stream",
          "name": "stdout",
          "text": [
            "1 True 9.7 orange "
          ]
        }
      ]
    },
    {
      "cell_type": "code",
      "source": [
        "#List is mutable\n",
        "\n",
        "a[0] = \"mango\"\n",
        "a"
      ],
      "metadata": {
        "colab": {
          "base_uri": "https://localhost:8080/"
        },
        "id": "Fw19tUKB0adf",
        "outputId": "9c3bd4ce-f501-4dba-9013-262426db7136"
      },
      "execution_count": 39,
      "outputs": [
        {
          "output_type": "execute_result",
          "data": {
            "text/plain": [
              "['mango', True, 9.7, 'orange']"
            ]
          },
          "metadata": {},
          "execution_count": 39
        }
      ]
    },
    {
      "cell_type": "code",
      "source": [
        "#inserting element before index:\n",
        "a.insert(1, \"Potato\")\n",
        "a"
      ],
      "metadata": {
        "colab": {
          "base_uri": "https://localhost:8080/"
        },
        "id": "fZWHMPpi0ijU",
        "outputId": "d759911e-fff6-4c43-e3a3-fb9436efdc70"
      },
      "execution_count": 40,
      "outputs": [
        {
          "output_type": "execute_result",
          "data": {
            "text/plain": [
              "['mango', 'Potato', True, 9.7, 'orange']"
            ]
          },
          "metadata": {},
          "execution_count": 40
        }
      ]
    },
    {
      "cell_type": "code",
      "source": [
        "#extend: Used to append elements from another list\n",
        "my_list = [\"Apple\", \"Banana\", \"Orange\"]\n",
        "brothers_list = [\"brinjal\", \"potato\"]\n",
        "my_list.extend(brothers_list)\n",
        "my_list"
      ],
      "metadata": {
        "colab": {
          "base_uri": "https://localhost:8080/"
        },
        "id": "enfT25PT0xdg",
        "outputId": "58f9c958-0485-4a4f-b834-2b77bba1a1a4"
      },
      "execution_count": 42,
      "outputs": [
        {
          "output_type": "execute_result",
          "data": {
            "text/plain": [
              "['Apple', 'Banana', 'Orange', 'brinjal', 'potato']"
            ]
          },
          "metadata": {},
          "execution_count": 42
        }
      ]
    },
    {
      "cell_type": "markdown",
      "source": [
        "#Explain how to acccess, modify and delete an element in a list.\n",
        "Ans."
      ],
      "metadata": {
        "id": "f5XTxROs1Tpq"
      }
    },
    {
      "cell_type": "code",
      "source": [
        "#Adding elements to the list\n",
        "#Method 1: Using extend\n",
        "my_list = [\"Apple\", \"Banana\", \"Orange\"]\n",
        "brothers_list = [\"brinjal\", \"potato\"]\n",
        "my_list.extend(brothers_list)\n",
        "print(my_list)\n",
        "print(\"/n/n\")\n",
        "\n",
        "#Method2: Using append\n",
        "my_list.append(\"Mango\")\n",
        "print(my_list)"
      ],
      "metadata": {
        "colab": {
          "base_uri": "https://localhost:8080/"
        },
        "id": "wH4AROHx03En",
        "outputId": "4f8a65a0-7f5d-4fa2-dbb2-4fc527117dfa"
      },
      "execution_count": 45,
      "outputs": [
        {
          "output_type": "stream",
          "name": "stdout",
          "text": [
            "['Apple', 'Banana', 'Orange', 'brinjal', 'potato']\n",
            "/n/n\n",
            "['Apple', 'Banana', 'Orange', 'brinjal', 'potato', 'Mango']\n"
          ]
        }
      ]
    },
    {
      "cell_type": "code",
      "source": [
        "#Accessing elements of the list\n",
        "#Method1: Indexing\n",
        "lis = [1, \"a\",True, 9.7]\n",
        "print(lis[2])\n",
        "\n",
        "#Method2: Slicing\n",
        "print(lis[0:1])\n",
        "\n",
        "#Method3: looping\n",
        "for i in lis:\n",
        "  print(i)"
      ],
      "metadata": {
        "colab": {
          "base_uri": "https://localhost:8080/"
        },
        "id": "h-f3PWpP2leO",
        "outputId": "b08ad3ee-1dd8-4b30-bd84-67253835b8f5"
      },
      "execution_count": 48,
      "outputs": [
        {
          "output_type": "stream",
          "name": "stdout",
          "text": [
            "True\n",
            "[1]\n",
            "1\n",
            "a\n",
            "True\n",
            "9.7\n"
          ]
        }
      ]
    },
    {
      "cell_type": "code",
      "source": [
        "#Removing an elements from list\n",
        "lis = [1, \"a\",True, 9.7]\n",
        "#Method1: pop\n",
        "lis.pop(0)\n",
        "print(lis)\n",
        "\n",
        "#Method2: remove\n",
        "lis.remove(\"a\")\n",
        "print(lis)\n",
        "\n",
        "#Method3: deleting list\n",
        "del lis\n",
        "print(lis)"
      ],
      "metadata": {
        "colab": {
          "base_uri": "https://localhost:8080/",
          "height": 211
        },
        "id": "VX5HDgPQ3eUT",
        "outputId": "78353e60-b8f7-4c09-8b65-002bfbf4b182"
      },
      "execution_count": 59,
      "outputs": [
        {
          "output_type": "stream",
          "name": "stdout",
          "text": [
            "['a', True, 9.7]\n",
            "[True, 9.7]\n"
          ]
        },
        {
          "output_type": "error",
          "ename": "NameError",
          "evalue": "name 'lis' is not defined",
          "traceback": [
            "\u001b[0;31m---------------------------------------------------------------------------\u001b[0m",
            "\u001b[0;31mNameError\u001b[0m                                 Traceback (most recent call last)",
            "\u001b[0;32m<ipython-input-59-5d02a459ac6a>\u001b[0m in \u001b[0;36m<cell line: 13>\u001b[0;34m()\u001b[0m\n\u001b[1;32m     11\u001b[0m \u001b[0;31m#Method3: deleting list\u001b[0m\u001b[0;34m\u001b[0m\u001b[0;34m\u001b[0m\u001b[0m\n\u001b[1;32m     12\u001b[0m \u001b[0;32mdel\u001b[0m \u001b[0mlis\u001b[0m\u001b[0;34m\u001b[0m\u001b[0;34m\u001b[0m\u001b[0m\n\u001b[0;32m---> 13\u001b[0;31m \u001b[0mprint\u001b[0m\u001b[0;34m(\u001b[0m\u001b[0mlis\u001b[0m\u001b[0;34m)\u001b[0m\u001b[0;34m\u001b[0m\u001b[0;34m\u001b[0m\u001b[0m\n\u001b[0m",
            "\u001b[0;31mNameError\u001b[0m: name 'lis' is not defined"
          ]
        }
      ]
    },
    {
      "cell_type": "markdown",
      "source": [
        "#Compare and contrast list and tuple with example.\n",
        "\n",
        "![image.png](data:image/png;base64,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)"
      ],
      "metadata": {
        "id": "maZaLlOy48s0"
      }
    },
    {
      "cell_type": "code",
      "source": [
        "#Representation\n",
        "lis = [1,True, 5.3]\n",
        "print(type(lis))\n",
        "\n",
        "tup = (4, 5,8.8, True)\n",
        "print(type(tup))\n",
        "\n",
        "#Mutability\n",
        "lis[0] = \"prachi\"\n",
        "print(lis)\n",
        "\n",
        "tup[0] = \"g\"\n",
        "print(tup)"
      ],
      "metadata": {
        "colab": {
          "base_uri": "https://localhost:8080/",
          "height": 245
        },
        "id": "ASkMalYV4PQR",
        "outputId": "2394b692-e541-4108-ac13-4884fcbc5db4"
      },
      "execution_count": 63,
      "outputs": [
        {
          "output_type": "stream",
          "name": "stdout",
          "text": [
            "<class 'list'>\n",
            "<class 'tuple'>\n",
            "['prachi', True, 5.3]\n"
          ]
        },
        {
          "output_type": "error",
          "ename": "TypeError",
          "evalue": "'tuple' object does not support item assignment",
          "traceback": [
            "\u001b[0;31m---------------------------------------------------------------------------\u001b[0m",
            "\u001b[0;31mTypeError\u001b[0m                                 Traceback (most recent call last)",
            "\u001b[0;32m<ipython-input-63-a1a66f17e2fc>\u001b[0m in \u001b[0;36m<cell line: 12>\u001b[0;34m()\u001b[0m\n\u001b[1;32m     10\u001b[0m \u001b[0mprint\u001b[0m\u001b[0;34m(\u001b[0m\u001b[0mlis\u001b[0m\u001b[0;34m)\u001b[0m\u001b[0;34m\u001b[0m\u001b[0;34m\u001b[0m\u001b[0m\n\u001b[1;32m     11\u001b[0m \u001b[0;34m\u001b[0m\u001b[0m\n\u001b[0;32m---> 12\u001b[0;31m \u001b[0mtup\u001b[0m\u001b[0;34m[\u001b[0m\u001b[0;36m0\u001b[0m\u001b[0;34m]\u001b[0m \u001b[0;34m=\u001b[0m \u001b[0;34m\"g\"\u001b[0m\u001b[0;34m\u001b[0m\u001b[0;34m\u001b[0m\u001b[0m\n\u001b[0m\u001b[1;32m     13\u001b[0m \u001b[0mprint\u001b[0m\u001b[0;34m(\u001b[0m\u001b[0mtup\u001b[0m\u001b[0;34m)\u001b[0m\u001b[0;34m\u001b[0m\u001b[0;34m\u001b[0m\u001b[0m\n",
            "\u001b[0;31mTypeError\u001b[0m: 'tuple' object does not support item assignment"
          ]
        }
      ]
    },
    {
      "cell_type": "markdown",
      "source": [
        "# Describe the key features of sets and provide examples of their use.\n",
        "Ans.\n",
        "It is unordered collection of unique elements.\n",
        "Representation: {}\n",
        "\n",
        "1. Sets are unordered and unique collection of elements.\n",
        "2. It doesn't allow duplicate elements\n",
        "3. Unordered, indexing will not work.\n",
        "4. set object is not subscirptable.\n",
        "5. Set inside set must be immutable\n",
        "6. Unhashable type means it is mutable.\n",
        "7. list , set are mutable"
      ],
      "metadata": {
        "id": "eEziaDOJ_9Nv"
      }
    },
    {
      "cell_type": "code",
      "source": [
        "s = {\"red\", \"orange\"}\n",
        "print(type(s))\n",
        "\n",
        "s = {\"red\", \"orange\", \"red\", \"blue\", \"orange\"}\n",
        "print(s)\n",
        "\n",
        "#There are 5 elements in s but the duplicate elements are removed.\n",
        "#There is no order of output so it is unordered collection of unique element.\n",
        "#There is no concept of indexing as sets are unordered and unique.\n",
        "\n",
        "print(s[0]) #Error"
      ],
      "metadata": {
        "colab": {
          "base_uri": "https://localhost:8080/",
          "height": 211
        },
        "id": "kJap9HIH-ieN",
        "outputId": "13ce2eb1-20d5-4a05-ba92-543da42b7af8"
      },
      "execution_count": 64,
      "outputs": [
        {
          "output_type": "stream",
          "name": "stdout",
          "text": [
            "<class 'set'>\n",
            "{'blue', 'red', 'orange'}\n"
          ]
        },
        {
          "output_type": "error",
          "ename": "TypeError",
          "evalue": "'set' object is not subscriptable",
          "traceback": [
            "\u001b[0;31m---------------------------------------------------------------------------\u001b[0m",
            "\u001b[0;31mTypeError\u001b[0m                                 Traceback (most recent call last)",
            "\u001b[0;32m<ipython-input-64-dcb6a405f4cb>\u001b[0m in \u001b[0;36m<cell line: 11>\u001b[0;34m()\u001b[0m\n\u001b[1;32m      9\u001b[0m \u001b[0;31m#There is no concept of indexing as sets are unordered and unique.\u001b[0m\u001b[0;34m\u001b[0m\u001b[0;34m\u001b[0m\u001b[0m\n\u001b[1;32m     10\u001b[0m \u001b[0;34m\u001b[0m\u001b[0m\n\u001b[0;32m---> 11\u001b[0;31m \u001b[0mprint\u001b[0m\u001b[0;34m(\u001b[0m\u001b[0ms\u001b[0m\u001b[0;34m[\u001b[0m\u001b[0;36m0\u001b[0m\u001b[0;34m]\u001b[0m\u001b[0;34m)\u001b[0m \u001b[0;31m#Error\u001b[0m\u001b[0;34m\u001b[0m\u001b[0;34m\u001b[0m\u001b[0m\n\u001b[0m",
            "\u001b[0;31mTypeError\u001b[0m: 'set' object is not subscriptable"
          ]
        }
      ]
    },
    {
      "cell_type": "code",
      "source": [
        "s = {\"red\", \"orange\", \"red\", \"blue\", \"orange\"}\n",
        "#We can add element to a set.\n",
        "s.add(\"Prachi\")\n",
        "print(s)\n",
        "\n",
        "#Mutable sets as we can add the element.\n",
        "\n",
        "#We can remove also:\n",
        "s.remove(\"Prachi\")\n",
        "print(s)"
      ],
      "metadata": {
        "colab": {
          "base_uri": "https://localhost:8080/"
        },
        "id": "2nIQpSKWBND1",
        "outputId": "4b4d4e3e-270b-43ce-b21e-3368243a0f34"
      },
      "execution_count": 67,
      "outputs": [
        {
          "output_type": "stream",
          "name": "stdout",
          "text": [
            "{'blue', 'red', 'orange', 'Prachi'}\n",
            "{'blue', 'red', 'orange'}\n"
          ]
        }
      ]
    },
    {
      "cell_type": "code",
      "source": [
        "#Use case\n",
        "#Converting list to a set\n",
        "list1 = [1,2,3,\"Brinja\",\"Brinja\", \"Apple\", \"Apple\"]\n",
        "s = set(list1)\n",
        "print(s)\n",
        "\n",
        "#Convertig set to list\n",
        "list1 = list(s)\n",
        "print(list1)\n",
        "\n",
        "s = {1,1,2,3,3,4}\n",
        "\n",
        "s = {1,2,3,4,5,{4,5,6}} #Error as unhashable type: set\n",
        "#Immutable data structure has a stable hash value. (Hash is some sort of encoding). The immutable data structure has a stable hash values like tuples.\n",
        "#unhashable type >>It is mutable-list, set"
      ],
      "metadata": {
        "colab": {
          "base_uri": "https://localhost:8080/",
          "height": 245
        },
        "id": "oIMdbcUDCuVc",
        "outputId": "9d6fad02-acd5-4ba8-d537-394df1794650"
      },
      "execution_count": 68,
      "outputs": [
        {
          "output_type": "stream",
          "name": "stdout",
          "text": [
            "{1, 2, 3, 'Brinja', 'Apple'}\n",
            "[1, 2, 3, 'Brinja', 'Apple']\n"
          ]
        },
        {
          "output_type": "error",
          "ename": "TypeError",
          "evalue": "unhashable type: 'set'",
          "traceback": [
            "\u001b[0;31m---------------------------------------------------------------------------\u001b[0m",
            "\u001b[0;31mTypeError\u001b[0m                                 Traceback (most recent call last)",
            "\u001b[0;32m<ipython-input-68-97a1b8c54e2e>\u001b[0m in \u001b[0;36m<cell line: 13>\u001b[0;34m()\u001b[0m\n\u001b[1;32m     11\u001b[0m \u001b[0ms\u001b[0m \u001b[0;34m=\u001b[0m \u001b[0;34m{\u001b[0m\u001b[0;36m1\u001b[0m\u001b[0;34m,\u001b[0m\u001b[0;36m1\u001b[0m\u001b[0;34m,\u001b[0m\u001b[0;36m2\u001b[0m\u001b[0;34m,\u001b[0m\u001b[0;36m3\u001b[0m\u001b[0;34m,\u001b[0m\u001b[0;36m3\u001b[0m\u001b[0;34m,\u001b[0m\u001b[0;36m4\u001b[0m\u001b[0;34m}\u001b[0m\u001b[0;34m\u001b[0m\u001b[0;34m\u001b[0m\u001b[0m\n\u001b[1;32m     12\u001b[0m \u001b[0;34m\u001b[0m\u001b[0m\n\u001b[0;32m---> 13\u001b[0;31m \u001b[0ms\u001b[0m \u001b[0;34m=\u001b[0m \u001b[0;34m{\u001b[0m\u001b[0;36m1\u001b[0m\u001b[0;34m,\u001b[0m\u001b[0;36m2\u001b[0m\u001b[0;34m,\u001b[0m\u001b[0;36m3\u001b[0m\u001b[0;34m,\u001b[0m\u001b[0;36m4\u001b[0m\u001b[0;34m,\u001b[0m\u001b[0;36m5\u001b[0m\u001b[0;34m,\u001b[0m\u001b[0;34m{\u001b[0m\u001b[0;36m4\u001b[0m\u001b[0;34m,\u001b[0m\u001b[0;36m5\u001b[0m\u001b[0;34m,\u001b[0m\u001b[0;36m6\u001b[0m\u001b[0;34m}\u001b[0m\u001b[0;34m}\u001b[0m \u001b[0;31m#Error as unhashable type: set\u001b[0m\u001b[0;34m\u001b[0m\u001b[0;34m\u001b[0m\u001b[0m\n\u001b[0m\u001b[1;32m     14\u001b[0m \u001b[0;31m#Immutable data structure has a stable hash value. (Hash is some sort of encoding). The immutable data structure has a stable hash values like tuples.\u001b[0m\u001b[0;34m\u001b[0m\u001b[0;34m\u001b[0m\u001b[0m\n\u001b[1;32m     15\u001b[0m \u001b[0;31m#unhashable type >>It is mutable-list, set\u001b[0m\u001b[0;34m\u001b[0m\u001b[0;34m\u001b[0m\u001b[0m\n",
            "\u001b[0;31mTypeError\u001b[0m: unhashable type: 'set'"
          ]
        }
      ]
    },
    {
      "cell_type": "code",
      "source": [
        "print(s.add(100)) #We can add element. It is not compulsory that the element will be added to the last of set.\n",
        "\n",
        "print(s.pop()) # It is not necessary that it will remove the last element.\n",
        "\n",
        "\n",
        "print(s.remove(100)) #It will specifically remove 100. It wremoves element specifically unlike pop.\n",
        "\n",
        "\n",
        "#Update set\n",
        "s.update(\"Ajay\")\n",
        "print(s) #It will add individual character {'A'.'a', 'j','y'}\n",
        "#So updates take iterable\n",
        "#Write like this:\n",
        "s.update([\"Ajay\"])\n",
        "print(s)\n",
        "\n",
        "\n",
        "#Set can have multiple data structure.\n",
        "s = {(1,2,3), 100, '2', 3.4}\n",
        "print(type(s))\n",
        "\n",
        "print(s.clear()) #We will get empty set.\n",
        "\n",
        "del s #Set s will be deleted.\n",
        "\n",
        "\n",
        "#Remove an element\n",
        "s = {(1,2,3), 100,101,  '2', 3.4}\n",
        "print(s.remove(101))\n",
        "\n",
        "s.discard(100)\n",
        "print(s)\n",
        "\n",
        "s.discard(110)\n",
        "print(s) # It will not throw error even if element is not present.\n",
        "\n",
        "#Set operations\n",
        "\"\"\"(I)Union: All elements from both set\n",
        "(II)Intersection: Common elements\n",
        "(III)Difference: Present in 1st set and not in 2nd.\n",
        "(IV)Symmetric difference: It returns all the elements other than common elements.\n",
        "\"\"\"\n"
      ],
      "metadata": {
        "colab": {
          "base_uri": "https://localhost:8080/",
          "height": 226
        },
        "id": "BY-kZeqUC6AX",
        "outputId": "77bfab4b-709d-4412-861b-de5aaf2cd18a"
      },
      "execution_count": 75,
      "outputs": [
        {
          "output_type": "stream",
          "name": "stdout",
          "text": [
            "None\n",
            "3.4\n",
            "None\n",
            "{'A', 'a', 'j', (1, 2, 3), 'y', '2'}\n",
            "{'Ajay', 'A', 'a', 'j', (1, 2, 3), 'y', '2'}\n",
            "<class 'set'>\n",
            "None\n",
            "None\n",
            "{3.4, (1, 2, 3), '2'}\n",
            "{3.4, (1, 2, 3), '2'}\n"
          ]
        },
        {
          "output_type": "execute_result",
          "data": {
            "text/plain": [
              "'(I)Union: All elements from both set\\n(II)Intersection: Common elements\\n(III)Difference: Present in 1st set and not in 2nd.\\n(IV)Symmetric difference: It returns all the elements other than common elements.\\n'"
            ],
            "application/vnd.google.colaboratory.intrinsic+json": {
              "type": "string"
            }
          },
          "metadata": {},
          "execution_count": 75
        }
      ]
    },
    {
      "cell_type": "markdown",
      "source": [
        "#Discuss the use cases of tuples and sets in python programming.\n",
        "Ans.\n",
        "1. Tuple: Tuples are immutable. Hence, they are primarily used to store data that doesn't change frequently. Any operation can store data in a tuple when you don't want it to change. Tuples are great to use if you want the data in your collection to be read-only, never to change, and always remain the same and constant.\n",
        "\n",
        "2. Sets: Sets are used to store multiple items in a single variable. Set is used to store collections of data. A set is a collection which is unordered, unchangeable, and unindexed."
      ],
      "metadata": {
        "id": "DsUCmppoGg5V"
      }
    },
    {
      "cell_type": "code",
      "source": [
        "#Use cases of Set\n",
        "\n",
        "#Converting list to a set\n",
        "list1 = [1,2,3,\"Brinja\",\"Brinja\", \"Apple\", \"Apple\"]\n",
        "s = set(list1)\n",
        "print(s)\n",
        "print(type(s))\n",
        "\n",
        "#Convertig set to list\n",
        "list1 = list(s)\n",
        "print(list1)\n",
        "print(type(list1))\n",
        "\n",
        "\n",
        "#Use cases of Tuples\n",
        "#Why we need Tuple? Ex. Aadhar no., employee ID, account no., etc cannot be edited and we dont want to edit it, that is why we need a data structure which store data which cannot be edited.\n",
        "\n",
        "emp_name = (\"ajay\", \"Ajay1\", \"Bijay\", \"Sanjay\")\n",
        "print(type(emp_name))\n",
        "\n",
        "#If someone left the office then?\n",
        "emp_name[2] = \"Rahul\" #He joined at place of bijay but this wont get executed as it is immutable.\n",
        "#So, we can access the elements but tuple is immutable.\n",
        "print(emp_name)"
      ],
      "metadata": {
        "colab": {
          "base_uri": "https://localhost:8080/",
          "height": 297
        },
        "id": "0qYEfbggIZRS",
        "outputId": "74bcecdc-af20-44a7-ce25-bac03993402e"
      },
      "execution_count": 78,
      "outputs": [
        {
          "output_type": "stream",
          "name": "stdout",
          "text": [
            "{1, 2, 3, 'Brinja', 'Apple'}\n",
            "<class 'set'>\n",
            "[1, 2, 3, 'Brinja', 'Apple']\n",
            "<class 'list'>\n",
            "<class 'tuple'>\n"
          ]
        },
        {
          "output_type": "error",
          "ename": "TypeError",
          "evalue": "'tuple' object does not support item assignment",
          "traceback": [
            "\u001b[0;31m---------------------------------------------------------------------------\u001b[0m",
            "\u001b[0;31mTypeError\u001b[0m                                 Traceback (most recent call last)",
            "\u001b[0;32m<ipython-input-78-b0007e8e7844>\u001b[0m in \u001b[0;36m<cell line: 22>\u001b[0;34m()\u001b[0m\n\u001b[1;32m     20\u001b[0m \u001b[0;34m\u001b[0m\u001b[0m\n\u001b[1;32m     21\u001b[0m \u001b[0;31m#If someone left the office then?\u001b[0m\u001b[0;34m\u001b[0m\u001b[0;34m\u001b[0m\u001b[0m\n\u001b[0;32m---> 22\u001b[0;31m \u001b[0memp_name\u001b[0m\u001b[0;34m[\u001b[0m\u001b[0;36m2\u001b[0m\u001b[0;34m]\u001b[0m \u001b[0;34m=\u001b[0m \u001b[0;34m\"Rahul\"\u001b[0m \u001b[0;31m#He joined at place of bijay but this wont get executed as it is immutable.\u001b[0m\u001b[0;34m\u001b[0m\u001b[0;34m\u001b[0m\u001b[0m\n\u001b[0m\u001b[1;32m     23\u001b[0m \u001b[0;31m#So, we can access the elements but tuple is immutable.\u001b[0m\u001b[0;34m\u001b[0m\u001b[0;34m\u001b[0m\u001b[0m\n\u001b[1;32m     24\u001b[0m \u001b[0mprint\u001b[0m\u001b[0;34m(\u001b[0m\u001b[0memp_name\u001b[0m\u001b[0;34m)\u001b[0m\u001b[0;34m\u001b[0m\u001b[0;34m\u001b[0m\u001b[0m\n",
            "\u001b[0;31mTypeError\u001b[0m: 'tuple' object does not support item assignment"
          ]
        }
      ]
    },
    {
      "cell_type": "markdown",
      "source": [
        "# Describe how to add, modify, and delete items in a dictionary with examples.\n",
        "Ans."
      ],
      "metadata": {
        "id": "OXVRaJHlK2CA"
      }
    },
    {
      "cell_type": "code",
      "source": [
        "person = {\"name\": \"John\", \"age\": 30, \"job\": \"Data Scientist\"}\n",
        "print(person)\n",
        "\n",
        "#Add\n",
        "new_data = {\"email\": \"john@example.com\", \"phone\": \"555-1234\"}\n",
        "person.update(new_data)\n",
        "print(person)\n",
        "\n",
        "#Modify\n",
        "updates = {\"name\": \"Eric\", \"age\": 32}\n",
        "person.update(updates)\n",
        "print(person)\n",
        "\n",
        "#Delete\n",
        "# Delete key \"age\"\n",
        "person.pop(\"age\")\n",
        "print(person)\n",
        "\n",
        "# Delete an arbitrary key-value pair\n",
        "person.popitem()\n",
        "print(person)\n",
        "\n",
        "person.clear() # Deletes all key-value pairs\n",
        "print(person)\n",
        "\n",
        "# Delete key \"city\"\n",
        "del person[\"city\"]\n",
        "print(person)\n"
      ],
      "metadata": {
        "colab": {
          "base_uri": "https://localhost:8080/",
          "height": 297
        },
        "id": "kdkYgiFpLZo6",
        "outputId": "d5016a80-df5f-435f-a189-5fd652781d37"
      },
      "execution_count": 81,
      "outputs": [
        {
          "output_type": "stream",
          "name": "stdout",
          "text": [
            "{'name': 'John', 'age': 30, 'job': 'Data Scientist'}\n",
            "{'name': 'John', 'age': 30, 'job': 'Data Scientist', 'email': 'john@example.com', 'phone': '555-1234'}\n",
            "{'name': 'Eric', 'age': 32, 'job': 'Data Scientist', 'email': 'john@example.com', 'phone': '555-1234'}\n",
            "{'name': 'Eric', 'job': 'Data Scientist', 'email': 'john@example.com', 'phone': '555-1234'}\n",
            "{'name': 'Eric', 'job': 'Data Scientist', 'email': 'john@example.com'}\n",
            "{}\n"
          ]
        },
        {
          "output_type": "error",
          "ename": "KeyError",
          "evalue": "'city'",
          "traceback": [
            "\u001b[0;31m---------------------------------------------------------------------------\u001b[0m",
            "\u001b[0;31mKeyError\u001b[0m                                  Traceback (most recent call last)",
            "\u001b[0;32m<ipython-input-81-584381b5ec3b>\u001b[0m in \u001b[0;36m<cell line: 27>\u001b[0;34m()\u001b[0m\n\u001b[1;32m     25\u001b[0m \u001b[0;34m\u001b[0m\u001b[0m\n\u001b[1;32m     26\u001b[0m \u001b[0;31m# Delete key \"city\"\u001b[0m\u001b[0;34m\u001b[0m\u001b[0;34m\u001b[0m\u001b[0m\n\u001b[0;32m---> 27\u001b[0;31m \u001b[0;32mdel\u001b[0m \u001b[0mperson\u001b[0m\u001b[0;34m[\u001b[0m\u001b[0;34m\"city\"\u001b[0m\u001b[0;34m]\u001b[0m\u001b[0;34m\u001b[0m\u001b[0;34m\u001b[0m\u001b[0m\n\u001b[0m\u001b[1;32m     28\u001b[0m \u001b[0mprint\u001b[0m\u001b[0;34m(\u001b[0m\u001b[0mperson\u001b[0m\u001b[0;34m)\u001b[0m\u001b[0;34m\u001b[0m\u001b[0;34m\u001b[0m\u001b[0m\n",
            "\u001b[0;31mKeyError\u001b[0m: 'city'"
          ]
        }
      ]
    },
    {
      "cell_type": "markdown",
      "source": [
        "#Discuss the importance of dictionary keys being immutable and provide examples.\n",
        "Ans.\n",
        "Immutability is essential for keys because it ensures that the dictionary can efficiently look up values based on their keys. If a key was mutable, its hash value could change, making it impossible to find the associated value in the dictionary.\n",
        "\n",
        "Dictionary types are a mapping between a key and a value. The mapping will use various properties of the key to assign it a slot in the internal dictionary storage. In most cases it simple reduces the properties to an int value.\n",
        "\n",
        "If a key changes over time then its properties could begin to map to a different index in the table. Hence the key would no longer be able to retrieve values it originally was mapped to in the table. Immutable types avoid this altogether because they can never change. Hence their mapping is consistent for all time."
      ],
      "metadata": {
        "id": "5CLbXtD0Mfgp"
      }
    },
    {
      "cell_type": "code",
      "source": [
        "mydict = { [1, 2]: '12' }\n",
        "print(mydict[[1, 2]])"
      ],
      "metadata": {
        "colab": {
          "base_uri": "https://localhost:8080/",
          "height": 159
        },
        "id": "cOTNGVHvN7zf",
        "outputId": "843cc775-8540-4ccd-c6de-c105f2e28a0d"
      },
      "execution_count": 83,
      "outputs": [
        {
          "output_type": "error",
          "ename": "TypeError",
          "evalue": "unhashable type: 'list'",
          "traceback": [
            "\u001b[0;31m---------------------------------------------------------------------------\u001b[0m",
            "\u001b[0;31mTypeError\u001b[0m                                 Traceback (most recent call last)",
            "\u001b[0;32m<ipython-input-83-0ab1e9141331>\u001b[0m in \u001b[0;36m<cell line: 1>\u001b[0;34m()\u001b[0m\n\u001b[0;32m----> 1\u001b[0;31m \u001b[0mmydict\u001b[0m \u001b[0;34m=\u001b[0m \u001b[0;34m{\u001b[0m \u001b[0;34m[\u001b[0m\u001b[0;36m1\u001b[0m\u001b[0;34m,\u001b[0m \u001b[0;36m2\u001b[0m\u001b[0;34m]\u001b[0m\u001b[0;34m:\u001b[0m \u001b[0;34m'12'\u001b[0m \u001b[0;34m}\u001b[0m\u001b[0;34m\u001b[0m\u001b[0;34m\u001b[0m\u001b[0m\n\u001b[0m\u001b[1;32m      2\u001b[0m \u001b[0mprint\u001b[0m\u001b[0;34m(\u001b[0m\u001b[0mmydict\u001b[0m\u001b[0;34m[\u001b[0m\u001b[0;34m[\u001b[0m\u001b[0;36m1\u001b[0m\u001b[0;34m,\u001b[0m \u001b[0;36m2\u001b[0m\u001b[0;34m]\u001b[0m\u001b[0;34m]\u001b[0m\u001b[0;34m)\u001b[0m\u001b[0;34m\u001b[0m\u001b[0;34m\u001b[0m\u001b[0m\n",
            "\u001b[0;31mTypeError\u001b[0m: unhashable type: 'list'"
          ]
        }
      ]
    }
  ]
}