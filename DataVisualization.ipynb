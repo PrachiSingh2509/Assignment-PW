{
  "nbformat": 4,
  "nbformat_minor": 0,
  "metadata": {
    "colab": {
      "provenance": []
    },
    "kernelspec": {
      "name": "python3",
      "display_name": "Python 3"
    },
    "language_info": {
      "name": "python"
    }
  },
  "cells": [
    {
      "cell_type": "markdown",
      "source": [
        "#MATPLOTLIB ASSIGNMENT:\n",
        "\n",
        "(Use Matplotlib for the visualization of the given questions)\n",
        "1. Create a scatter plot using Matplotlib to visualize the relationship between two arrays, x and y for the given data.\n",
        "x = [1, 2, 3, 4, 5, 6, 7, 8, 9, 10]\n",
        "y = [2, 4, 5, 7, 6, 8, 9, 10, 12, 13]\n",
        "2. Generate a line plot to visualize the trend of values for the given data.\n",
        "\n",
        "\n",
        "\n",
        "data = np.array([3, 7, 9, 15, 22, 29, 35])\n",
        "3. Display a bar chart to represent the frequency of each item in the given array categories.categories = ['A', 'B', 'C', 'D', 'E']\n",
        "values = [25, 40, 30, 35, 20]\n",
        "4. Create a histogram to visualize the distribution of values in the array data.\n",
        "data = np.random.normal(0, 1, 1000)\n",
        "5. Show a pie chart to represent the percentage distribution of different sections in the array sections.\n",
        "sections = ['Section A', 'Section B', 'Section C', 'Section D']\n",
        "sizes = [25, 30, 15, 30]\n",
        "\n",
        "\n",
        "\n"
      ],
      "metadata": {
        "id": "X76_1UDJCWzw"
      }
    },
    {
      "cell_type": "code",
      "source": [
        "#1.\n",
        "import matplotlib.pyplot as plt\n",
        "\n",
        "x = [1, 2, 3, 4, 5, 6, 7, 8, 9, 10]\n",
        "y = [2, 4, 5, 7, 6, 8, 9, 10, 12, 13]\n",
        "\n",
        "plt.scatter(x, y, color='blue')\n",
        "plt.title('Scatter Plot')\n",
        "plt.xlabel('X values')\n",
        "plt.ylabel('Y values')\n",
        "plt.show()\n"
      ],
      "metadata": {
        "id": "u3lhZO3DC0Vl"
      },
      "execution_count": null,
      "outputs": []
    },
    {
      "cell_type": "code",
      "source": [
        "#2.\n",
        "import numpy as np\n",
        "\n",
        "data = np.array([3, 7, 9, 15, 22, 29, 35])\n",
        "plt.plot(data, marker='o', color='green')\n",
        "plt.title('Line Plot')\n",
        "plt.xlabel('Index')\n",
        "plt.ylabel('Value')\n",
        "plt.show()\n"
      ],
      "metadata": {
        "id": "4bExe-4zC2f1"
      },
      "execution_count": null,
      "outputs": []
    },
    {
      "cell_type": "code",
      "source": [
        "#3.\n",
        "categories = ['A', 'B', 'C', 'D', 'E']\n",
        "values = [25, 40, 30, 35, 20]\n",
        "\n",
        "plt.bar(categories, values, color='orange')\n",
        "plt.title('Bar Chart of Categories')\n",
        "plt.xlabel('Category')\n",
        "plt.ylabel('Frequency')\n",
        "plt.show()\n"
      ],
      "metadata": {
        "id": "JlcYcdaBC2We"
      },
      "execution_count": null,
      "outputs": []
    },
    {
      "cell_type": "code",
      "source": [
        "#4.\n",
        "data = np.random.normal(0, 1, 1000)\n",
        "\n",
        "plt.hist(data, bins=30, color='purple', edgecolor='black')\n",
        "plt.title('Histogram of Normal Distribution')\n",
        "plt.xlabel('Value')\n",
        "plt.ylabel('Frequency')\n",
        "plt.show()\n"
      ],
      "metadata": {
        "id": "DiRU3SD8C2Kz"
      },
      "execution_count": null,
      "outputs": []
    },
    {
      "cell_type": "code",
      "source": [
        "#5.\n",
        "sections = ['Section A', 'Section B', 'Section C', 'Section D']\n",
        "sizes = [25, 30, 15, 30]\n",
        "\n",
        "plt.pie(sizes, labels=sections, autopct='%1.1f%%', startangle=90)\n",
        "plt.title('Percentage Distribution of Sections')\n",
        "plt.axis('equal')  # Equal aspect ratio ensures circle\n",
        "plt.show()\n"
      ],
      "metadata": {
        "id": "S_SmcF71C175"
      },
      "execution_count": null,
      "outputs": []
    },
    {
      "cell_type": "markdown",
      "source": [
        "#SEABORN ASSIGNMENT:\n",
        " (Use Seaborn for the visualization of the given questions)\n",
        "\n",
        "1. Create a scatter plot to visualize the relationship between two variables, by generating a synthetic\n",
        "dataset.\n",
        "\n",
        "\n",
        "2. Generate a dataset of random numbers. Visualize the distribution of a numerical variable.\n",
        "\n",
        "\n",
        "3. Create a dataset representing categories and their corresponding values. Compare different categories\n",
        "based on numerical values.\n",
        "\n",
        "\n",
        "4. Generate a dataset with categories and numerical values. Visualize the distribution of a numerical\n",
        "variable across different categories.\n",
        "\n",
        "\n",
        "5. Generate a synthetic dataset with correlated features. Visualize the correlation matrix of a dataset using a heatmap.\n"
      ],
      "metadata": {
        "id": "dIgnZovODNQB"
      }
    },
    {
      "cell_type": "code",
      "source": [
        "#1.\n",
        "import seaborn as sns\n",
        "import matplotlib.pyplot as plt\n",
        "import numpy as np\n",
        "import pandas as pd\n",
        "\n",
        "# Generate synthetic data\n",
        "np.random.seed(0)\n",
        "df = pd.DataFrame({\n",
        "    'x': np.random.rand(100),\n",
        "    'y': np.random.rand(100)\n",
        "})\n",
        "\n",
        "sns.scatterplot(data=df, x='x', y='y')\n",
        "plt.title('Scatter Plot of Synthetic Data')\n",
        "plt.show()\n"
      ],
      "metadata": {
        "id": "netc-NMCDOde"
      },
      "execution_count": null,
      "outputs": []
    },
    {
      "cell_type": "code",
      "source": [
        "#2.\n",
        "data = np.random.randn(1000)\n",
        "\n",
        "sns.histplot(data, kde=True)\n",
        "plt.title('Distribution of Random Data')\n",
        "plt.show()\n"
      ],
      "metadata": {
        "id": "ozN_BAMoDYlE"
      },
      "execution_count": null,
      "outputs": []
    },
    {
      "cell_type": "code",
      "source": [
        "#3.\n",
        "df = pd.DataFrame({\n",
        "    'Category': ['A', 'B', 'C', 'D', 'E'],\n",
        "    'Value': [30, 45, 20, 35, 50]\n",
        "})\n",
        "\n",
        "sns.barplot(data=df, x='Category', y='Value')\n",
        "plt.title('Category-wise Values')\n",
        "plt.show()\n"
      ],
      "metadata": {
        "id": "KIRbnk2rDYYD"
      },
      "execution_count": null,
      "outputs": []
    },
    {
      "cell_type": "code",
      "source": [
        "#4.\n",
        "df = pd.DataFrame({\n",
        "    'Category': np.random.choice(['A', 'B', 'C'], 200),\n",
        "    'Value': np.random.normal(50, 15, 200)\n",
        "})\n",
        "\n",
        "sns.boxplot(data=df, x='Category', y='Value')\n",
        "plt.title('Value Distribution per Category')\n",
        "plt.show()\n"
      ],
      "metadata": {
        "id": "bLob4GNmDYKb"
      },
      "execution_count": null,
      "outputs": []
    },
    {
      "cell_type": "code",
      "source": [
        "#5.\n",
        "# Create synthetic correlated dataset\n",
        "df = pd.DataFrame(np.random.rand(100, 4), columns=['A', 'B', 'C', 'D'])\n",
        "corr = df.corr()\n",
        "\n",
        "sns.heatmap(corr, annot=True, cmap='coolwarm')\n",
        "plt.title('Correlation Matrix Heatmap')\n",
        "plt.show()\n"
      ],
      "metadata": {
        "id": "llBX9nzhDX24"
      },
      "execution_count": null,
      "outputs": []
    },
    {
      "cell_type": "markdown",
      "source": [
        "#PLOTLY ASSIGNMENT:\n",
        "\n",
        "(Use Plotly for the visualization of the given questions)\n",
        "\n",
        "1. Using the given dataset, to generate a 3D scatter plot to visualize the distribution of data points in a threedimensional space.\n",
        "np.random.seed(30)\n",
        "data = {\n",
        "    'X': np.random.uniform(-10, 10, 300),\n",
        "    'Y': np.random.uniform(-10, 10, 300),\n",
        "    'Z': np.random.uniform(-10, 10, 300)\n",
        "}\n",
        "df = pd.DataFrame(data)\n",
        "\n",
        "2. Using the Student Grades, create a violin plot to display the distribution of scores across different grade  categories.\n",
        "np.random.seed(15)\n",
        "data = {\n",
        "    'Grade': np.random.choice(['A', 'B', 'C', 'D', 'F'], 200),\n",
        "    'Score': np.random.randint(50, 100, 200)\n",
        "}\n",
        "df = pd.DataFrame(data\n",
        " Using the sales data, generate a heatmap to visualize the variation in sales across\n",
        "different months and days.\n",
        "\n",
        "np.random.seed(20)\n",
        "data = {\n",
        "    'Month': np.random.choice(['Jan', 'Feb', 'Mar', 'Apr', 'May'], 100),\n",
        "    'Day': np.random.choice(range(1, 31), 100),\n",
        "    'Sales': np.random.randint(1000, 5000, 100)\n",
        "}\n",
        "df = pd.DataFrame(data)\n",
        "\n",
        "3. Using the sales data, generate a heatmap to visualize the variation in sales across different months and  days.\n",
        "np.random.seed(20)\n",
        "data = {\n",
        "    'Month': np.random.choice(['Jan', 'Feb', 'Mar', 'Apr', 'May'], 100),\n",
        "    'Day': np.random.choice(range(1, 31), 100),\n",
        "    'Sales': np.random.randint(1000, 5000, 100)\n",
        "}\n",
        "df = pd.DataFrame(data)\n",
        "4. Using the given x and y data, generate a 3D surface plot to visualize the function  z = root under(x^2 + y^2)\n",
        "x = np.linspace(-5, 5, 100)\n",
        "y = np.linspace(-5, 5, 100)\n",
        "x, y = np.meshgrid(x, y)\n",
        "z = np.sin(np.sqrt(x**2 + y**2))\n",
        "data = {\n",
        "    'X': x.flatten(),\n",
        "    'Y': y.flatten(),\n",
        "    'Z': z.flatten()\n",
        "}\n",
        "df = pd.DataFrame(data)\n",
        "5. Using the given dataset, create a bubble chart to represent each country's population (y-axis), GDP (xaxis), and bubble size proportional to the population.\n",
        "np.random.seed(25)\n",
        "data = {\n",
        "    'Country': ['USA', 'Canada', 'UK',\n",
        "'Germany', 'France'],\n",
        "    'Population':\n",
        "np.random.randint(100, 1000, 5),\n",
        "    'GDP': np.random.randint(500, 2000,\n",
        "5)\n",
        "}\n",
        "df = pd.DataFrame(data)\n"
      ],
      "metadata": {
        "id": "y00sQteXDt1c"
      }
    },
    {
      "cell_type": "code",
      "source": [
        "#1.\n",
        "import plotly.express as px\n",
        "import numpy as np\n",
        "import pandas as pd\n",
        "\n",
        "np.random.seed(30)\n",
        "data = {\n",
        "    'X': np.random.uniform(-10, 10, 300),\n",
        "    'Y': np.random.uniform(-10, 10, 300),\n",
        "    'Z': np.random.uniform(-10, 10, 300)\n",
        "}\n",
        "df = pd.DataFrame(data)\n",
        "\n",
        "fig = px.scatter_3d(df, x='X', y='Y', z='Z', title=\"3D Scatter Plot\")\n",
        "fig.show()\n"
      ],
      "metadata": {
        "id": "k5uGUKmgDu4S"
      },
      "execution_count": null,
      "outputs": []
    },
    {
      "cell_type": "code",
      "source": [
        "#2.\n",
        "np.random.seed(15)\n",
        "data = {\n",
        "    'Grade': np.random.choice(['A', 'B', 'C', 'D', 'F'], 200),\n",
        "    'Score': np.random.randint(50, 100, 200)\n",
        "}\n",
        "df = pd.DataFrame(data)\n",
        "\n",
        "fig = px.violin(df, x='Grade', y='Score', box=True, points=\"all\", title=\"Score Distribution by Grade\")\n",
        "fig.show()\n"
      ],
      "metadata": {
        "id": "2e3P_5B-D0GA"
      },
      "execution_count": null,
      "outputs": []
    },
    {
      "cell_type": "code",
      "source": [
        "#3.\n",
        "np.random.seed(20)\n",
        "data = {\n",
        "    'Month': np.random.choice(['Jan', 'Feb', 'Mar', 'Apr', 'May'], 100),\n",
        "    'Day': np.random.choice(range(1, 31), 100),\n",
        "    'Sales': np.random.randint(1000, 5000, 100)\n",
        "}\n",
        "df = pd.DataFrame(data)\n",
        "pivot = df.pivot_table(index='Day', columns='Month', values='Sales', aggfunc='mean')\n",
        "\n",
        "import plotly.figure_factory as ff\n",
        "fig = ff.create_annotated_heatmap(z=pivot.values, x=list(pivot.columns), y=list(pivot.index), colorscale='Viridis')\n",
        "fig.update_layout(title='Sales Heatmap by Month and Day')\n",
        "fig.show()\n"
      ],
      "metadata": {
        "id": "fdgEB37eDz6w"
      },
      "execution_count": null,
      "outputs": []
    },
    {
      "cell_type": "code",
      "source": [
        "#4.\n",
        "x = np.linspace(-5, 5, 100)\n",
        "y = np.linspace(-5, 5, 100)\n",
        "x, y = np.meshgrid(x, y)\n",
        "z = np.sin(np.sqrt(x**2 + y**2))\n",
        "\n",
        "import plotly.graph_objects as go\n",
        "fig = go.Figure(data=[go.Surface(z=z, x=x, y=y)])\n",
        "fig.update_layout(title='3D Surface Plot: sin(sqrt(x² + y²))')\n",
        "fig.show()\n"
      ],
      "metadata": {
        "id": "NCfH2pU-DzxV"
      },
      "execution_count": null,
      "outputs": []
    },
    {
      "cell_type": "code",
      "source": [
        "#5.\n",
        "np.random.seed(25)\n",
        "data = {\n",
        "    'Country': ['USA', 'Canada', 'UK', 'Germany', 'France'],\n",
        "    'Population': np.random.randint(100, 1000, 5),\n",
        "    'GDP': np.random.randint(500, 2000, 5)\n",
        "}\n",
        "df = pd.DataFrame(data)\n",
        "\n",
        "fig = px.scatter(df, x='GDP', y='Population', size='Population', color='Country',\n",
        "                 hover_name='Country', title='Bubble Chart: GDP vs Population')\n",
        "fig.show()\n"
      ],
      "metadata": {
        "id": "0ydysK8YDzlm"
      },
      "execution_count": null,
      "outputs": []
    },
    {
      "cell_type": "markdown",
      "source": [
        "#BOKEH ASSIGNMENT:\n",
        "\n",
        "(Use Bokeh for the visualization of the given questions)\n",
        "\n",
        "1.Create a Bokeh plot displaying a sine wave. Set x-values from 0 to 10 and y-values as the sine of x.\n",
        "\n",
        "\n",
        "2.Create a Bokeh scatter plot using randomly generated x and y values. Use different sizes and colors for the\n",
        "markers based on the 'sizes' and 'colors' columns.\n",
        "\n",
        "\n",
        "3. Generate a Bokeh bar chart representing the counts of different fruits using the following dataset.\n",
        "\n",
        "fruits = ['Apples', 'Oranges', 'Bananas', 'Pears']\n",
        "counts = [20, 25, 30, 35]\n",
        "4. Create a Bokeh histogram to visualize the distribution of the given data.\n",
        "data_hist = np.random.randn(1000)\n",
        "hist, edges = np.histogram(data_hist, bins=30)\n",
        "5. Create a Bokeh heatmap using the provided dataset.\n",
        "data_heatmap = np.random.rand(10, 10)\n",
        "x = np.linspace(0, 1, 10)\n",
        "y = np.linspace(0, 1, 10)\n",
        "xx, yy = np.meshgrid(x, y)"
      ],
      "metadata": {
        "id": "sC0H8DojEK5E"
      }
    },
    {
      "cell_type": "code",
      "source": [
        "#1.\n",
        "from bokeh.plotting import figure, show\n",
        "import numpy as np\n",
        "\n",
        "x = np.linspace(0, 10, 100)\n",
        "y = np.sin(x)\n",
        "\n",
        "p = figure(title=\"Sine Wave\", x_axis_label='x', y_axis_label='sin(x)')\n",
        "p.line(x, y, line_width=2)\n",
        "show(p)\n"
      ],
      "metadata": {
        "id": "ckQQ64_nEMKw"
      },
      "execution_count": null,
      "outputs": []
    },
    {
      "cell_type": "code",
      "source": [
        "#2.\n",
        "import pandas as pd\n",
        "from bokeh.models import ColumnDataSource\n",
        "from bokeh.transform import factor_cmap\n",
        "import random\n",
        "\n",
        "x = np.random.rand(100)\n",
        "y = np.random.rand(100)\n",
        "sizes = np.random.randint(5, 20, 100)\n",
        "colors = ['red', 'green', 'blue', 'orange', 'purple']\n",
        "color_choices = [random.choice(colors) for _ in range(100)]\n",
        "\n",
        "source = ColumnDataSource(data=dict(x=x, y=y, sizes=sizes, colors=color_choices))\n",
        "\n",
        "p = figure(title=\"Scatter Plot with Sizes and Colors\")\n",
        "p.scatter('x', 'y', size='sizes', color='colors', source=source)\n",
        "show(p)\n"
      ],
      "metadata": {
        "id": "gze3KNJoENOT"
      },
      "execution_count": null,
      "outputs": []
    },
    {
      "cell_type": "code",
      "source": [
        "#3.\n",
        "from bokeh.transform import dodge\n",
        "from bokeh.models import ColumnDataSource\n",
        "\n",
        "fruits = ['Apples', 'Oranges', 'Bananas', 'Pears']\n",
        "counts = [20, 25, 30, 35]\n",
        "source = ColumnDataSource(data=dict(fruits=fruits, counts=counts))\n",
        "\n",
        "p = figure(x_range=fruits, title=\"Fruit Counts\", y_axis_label=\"Count\")\n",
        "p.vbar(x='fruits', top='counts', width=0.6, source=source)\n",
        "show(p)\n"
      ],
      "metadata": {
        "id": "xYprbp04ENC8"
      },
      "execution_count": null,
      "outputs": []
    },
    {
      "cell_type": "code",
      "source": [
        "#4.\n",
        "data_hist = np.random.randn(1000)\n",
        "hist, edges = np.histogram(data_hist, bins=30)\n",
        "\n",
        "p = figure(title=\"Histogram\", x_axis_label='Value', y_axis_label='Frequency')\n",
        "p.quad(top=hist, bottom=0, left=edges[:-1], right=edges[1:], fill_color=\"skyblue\", line_color=\"white\")\n",
        "show(p)\n"
      ],
      "metadata": {
        "id": "jFmHF698EM5t"
      },
      "execution_count": null,
      "outputs": []
    },
    {
      "cell_type": "code",
      "source": [
        "#5.\n",
        "from bokeh.models import LinearColorMapper, ColorBar\n",
        "from bokeh.transform import transform\n",
        "from bokeh.palettes import Viridis256\n",
        "\n",
        "data_heatmap = np.random.rand(10, 10)\n",
        "x = np.linspace(0, 1, 10)\n",
        "y = np.linspace(0, 1, 10)\n",
        "xx, yy = np.meshgrid(x, y)\n",
        "\n",
        "source = ColumnDataSource(data=dict(\n",
        "    x=xx.flatten(),\n",
        "    y=yy.flatten(),\n",
        "    value=data_heatmap.flatten()\n",
        "))\n",
        "\n",
        "mapper = LinearColorMapper(palette=Viridis256, low=0, high=1)\n",
        "\n",
        "p = figure(title=\"Heatmap\", x_axis_label='x', y_axis_label='y')\n",
        "p.rect(x='x', y='y', width=0.1, height=0.1, source=source,\n",
        "       fill_color=transform('value', mapper), line_color=None)\n",
        "\n",
        "color_bar = ColorBar(color_mapper=mapper, location=(0, 0))\n",
        "p.add_layout(color_bar, 'right')\n",
        "show(p)\n"
      ],
      "metadata": {
        "id": "pZ7fl0Q_EMtR"
      },
      "execution_count": null,
      "outputs": []
    },
    {
      "cell_type": "markdown",
      "source": [],
      "metadata": {
        "id": "agR7jDryEEdG"
      }
    },
    {
      "cell_type": "markdown",
      "source": [],
      "metadata": {
        "id": "ha0OUwwrEELF"
      }
    }
  ]
}